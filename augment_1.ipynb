{
 "cells": [
  {
   "cell_type": "markdown",
   "metadata": {},
   "source": [
    "### This code applies augmentation by raandoming deleting red box regions (used for random_shuffle and split_by_match)."
   ]
  },
  {
   "cell_type": "code",
   "execution_count": 1,
   "metadata": {},
   "outputs": [],
   "source": [
    "import random\n",
    "import os \n",
    "import cv2\n",
    "import pandas as pd\n",
    "import torch\n",
    "from torch.utils.data import Dataset, DataLoader\n",
    "from torchvision import transforms\n",
    "from torchvision.transforms import ToPILImage\n",
    "import torch.nn as nn\n",
    "import torch.nn.functional as F\n",
    "from tqdm import tqdm\n",
    "import torch.optim as optim\n",
    "from torchvision import transforms\n",
    "from sklearn.model_selection import train_test_split\n",
    "import shutil\n",
    "\n",
    "from PIL import Image, ImageDraw\n",
    "import matplotlib.pyplot as plt\n",
    "\n",
    "from tqdm import tqdm"
   ]
  },
  {
   "cell_type": "code",
   "execution_count": null,
   "metadata": {},
   "outputs": [],
   "source": [
    "def augment_image(image, rect_coords):\n",
    "    draw = ImageDraw.Draw(image)\n",
    "    num_boxes = len(rect_coords)\n",
    "\n",
    "    # randomly decide how many boxes to mask (1 to num_boxes-1)\n",
    "    num_to_mask = random.randint(1, num_boxes - 1)\n",
    "    boxes_to_mask = random.sample(range(num_boxes), num_to_mask)\n",
    "\n",
    "    for i, rect in enumerate(rect_coords):\n",
    "        x1, y1 = min(rect[0], rect[2]), min(rect[1], rect[3])\n",
    "        x2, y2 = max(rect[0], rect[2]), max(rect[1], rect[3])\n",
    "\n",
    "        if i in boxes_to_mask:\n",
    "            # Mask this region with black\n",
    "            draw.rectangle([x1, y1, x2, y2], fill=(0, 0, 0))\n",
    "\n",
    "    return image"
   ]
  },
  {
   "cell_type": "code",
   "execution_count": null,
   "metadata": {},
   "outputs": [],
   "source": [
    "def augment_and_save(frames_dir, output_dir, rect_coords, augmentations_per_frame=3):\n",
    "    os.makedirs(output_dir, exist_ok=True)\n",
    "    for match_id in os.listdir(frames_dir):\n",
    "        match_folder = os.path.join(frames_dir, match_id)\n",
    "        if not os.path.isdir(match_folder):\n",
    "            continue\n",
    "\n",
    "        output_match_folder = os.path.join(output_dir, match_id)\n",
    "        os.makedirs(output_match_folder, exist_ok=True)\n",
    "\n",
    "        for frame in os.listdir(match_folder):\n",
    "            if not frame.endswith('.jpg'):\n",
    "                continue\n",
    "\n",
    "            frame_path = os.path.join(match_folder, frame)\n",
    "            image = Image.open(frame_path).convert(\"RGB\")\n",
    "\n",
    "            # save original\n",
    "            original_path = os.path.join(output_match_folder, frame)\n",
    "            image.save(original_path)\n",
    "\n",
    "            # apply augmentations\n",
    "            for i in range(augmentations_per_frame):\n",
    "                augmented_image = augment_image(image.copy(), rect_coords)\n",
    "                augmented_path = os.path.join(\n",
    "                    output_match_folder, f\"{os.path.splitext(frame)[0]}_augment_{i + 1}.jpg\"\n",
    "                )\n",
    "                augmented_image.save(augmented_path)\n",
    "                "
   ]
  },
  {
   "cell_type": "code",
   "execution_count": null,
   "metadata": {},
   "outputs": [],
   "source": [
    "frames_dir = './data/frames'  \n",
    "augmented_output_dir = './data/augmented_frames_no_mask'  "
   ]
  },
  {
   "cell_type": "code",
   "execution_count": 3,
   "metadata": {},
   "outputs": [],
   "source": [
    "rect_coords = [\n",
    "    (675, 10, 1242, 85),\n",
    "    (1755, 5, 1916, 72),\n",
    "    (292, 95, 2, 5),\n",
    "    (1630, 793, 1915, 1074),\n",
    "    (597, 846, 1335, 1077),\n",
    "    (1828, 126, 1918, 648),\n",
    "    (83, 132, 1, 655),\n",
    "]"
   ]
  },
  {
   "cell_type": "code",
   "execution_count": null,
   "metadata": {},
   "outputs": [],
   "source": [
    "augment_and_save(frames_dir, augmented_output_dir, rect_coords, augmentations_per_frame=3)"
   ]
  },
  {
   "cell_type": "code",
   "execution_count": null,
   "metadata": {},
   "outputs": [],
   "source": []
  }
 ],
 "metadata": {
  "kernelspec": {
   "display_name": "DLCV",
   "language": "python",
   "name": "python3"
  },
  "language_info": {
   "codemirror_mode": {
    "name": "ipython",
    "version": 3
   },
   "file_extension": ".py",
   "mimetype": "text/x-python",
   "name": "python",
   "nbconvert_exporter": "python",
   "pygments_lexer": "ipython3",
   "version": "3.12.7"
  }
 },
 "nbformat": 4,
 "nbformat_minor": 2
}
