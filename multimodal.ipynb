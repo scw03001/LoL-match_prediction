{
 "cells": [
  {
   "cell_type": "code",
   "execution_count": 1,
   "metadata": {},
   "outputs": [],
   "source": [
    "import os\n",
    "import pandas as pd\n",
    "import torch\n",
    "import torch.nn as nn\n",
    "import torch.optim as optim\n",
    "from torch.utils.data import DataLoader, Dataset\n",
    "from torchvision import transforms\n",
    "import torch.optim as optim\n",
    "from PIL import Image\n",
    "from tqdm import tqdm\n",
    "\n",
    "from matplotlib import pyplot as plt\n",
    "\n",
    "device = torch.device(\"cuda\" if torch.cuda.is_available() else \"cpu\")"
   ]
  },
  {
   "cell_type": "code",
   "execution_count": 2,
   "metadata": {},
   "outputs": [],
   "source": [
    "# Multimodal pair dataset\n",
    "class MultiModalDataset(Dataset):\n",
    "    def __init__(self, pairs_csv, transform=None):\n",
    "        self.data = pd.read_csv(pairs_csv)\n",
    "        self.transform = transform\n",
    "\n",
    "    # 3 images per pair\n",
    "    def __len__(self):\n",
    "        return len(self.data) // 3\n",
    "\n",
    "    def __getitem__(self, idx):\n",
    "        start_idx = idx * 3\n",
    "        pair_data = self.data.iloc[start_idx:start_idx + 3]\n",
    "\n",
    "        images = []\n",
    "        label = pair_data.iloc[0]['label']\n",
    "        \n",
    "        for _, row in pair_data.iterrows():\n",
    "            image_path = row['file']\n",
    "            image = Image.open(image_path).convert(\"RGB\")\n",
    "            if self.transform:\n",
    "                image = self.transform(image)\n",
    "            images.append(image)\n",
    "        \n",
    "        combined_images = torch.stack(images)\n",
    "\n",
    "        # add text info\n",
    "        ocr_values = []\n",
    "        for _, row in pair_data.iterrows():\n",
    "            ocr_info = row[['region_1','region_2','region_3','region_4','region_5','region_6']].values\n",
    "            ocr_numeric = []\n",
    "            for value in ocr_info:\n",
    "                try:\n",
    "                    if isinstance(value, str):\n",
    "                        value = value.replace('I', '1').replace('\"', '')\n",
    "                        if 'K' in value:\n",
    "                            value = float(value.replace('K', ''))\n",
    "                    ocr_numeric.append(float(value))\n",
    "                except ValueError:\n",
    "                    ocr_numeric.append(0.0)\n",
    "            ocr_values.append(ocr_numeric)\n",
    "        \n",
    "        ocr_tensor = torch.tensor(ocr_values, dtype=torch.float32).mean(dim=0)\n",
    "        return combined_images, ocr_tensor, label"
   ]
  },
  {
   "cell_type": "code",
   "execution_count": 3,
   "metadata": {},
   "outputs": [],
   "source": [
    "class MBConvBlock(nn.Module):\n",
    "    def __init__(self, in_channels, out_channels, expansion_ratio, stride, kernel_size, se_ratio=0.25):\n",
    "        super(MBConvBlock, self).__init__()\n",
    "        self.stride = stride\n",
    "        mid_channels = in_channels * expansion_ratio\n",
    "\n",
    "        self.expansion = nn.Conv2d(in_channels, mid_channels, kernel_size=1, bias=False)\n",
    "        self.bn1 = nn.BatchNorm2d(mid_channels, momentum=0.99)\n",
    "        self.act1 = nn.SiLU()\n",
    "\n",
    "        self.depthwise = nn.Conv2d(mid_channels, mid_channels, kernel_size=kernel_size, stride=stride, padding=kernel_size//2, groups=mid_channels, bias=False)\n",
    "        self.bn2 = nn.BatchNorm2d(mid_channels, momentum=0.99)\n",
    "        self.act2 = nn.SiLU()\n",
    "\n",
    "        se_channels = max(1, int(in_channels * se_ratio))\n",
    "        self.se = nn.Sequential(\n",
    "            nn.AdaptiveAvgPool2d(1),\n",
    "            nn.Conv2d(mid_channels, se_channels, kernel_size=1),\n",
    "            nn.SiLU(),\n",
    "            nn.Conv2d(se_channels, mid_channels, kernel_size=1),\n",
    "            nn.Sigmoid()\n",
    "        )\n",
    "\n",
    "        self.projection = nn.Conv2d(mid_channels, out_channels, kernel_size=1, bias=False)\n",
    "        self.bn3 = nn.BatchNorm2d(out_channels, momentum=0.99)\n",
    "\n",
    "        self.apply_residual = (in_channels == out_channels) and (stride == 1)\n",
    "\n",
    "    def forward(self, x):\n",
    "        residual = x\n",
    "        x = self.expansion(x)\n",
    "        x = self.bn1(x)\n",
    "        x = self.act1(x)\n",
    "\n",
    "        x = self.depthwise(x)\n",
    "        x = self.bn2(x)\n",
    "        x = self.act2(x)\n",
    "\n",
    "        weights = self.se(x)\n",
    "        x = x * weights\n",
    "\n",
    "        x = self.projection(x)\n",
    "        x = self.bn3(x)\n",
    "\n",
    "        if self.apply_residual:\n",
    "            x = x + residual\n",
    "        \n",
    "        return x"
   ]
  },
  {
   "cell_type": "code",
   "execution_count": 4,
   "metadata": {},
   "outputs": [],
   "source": [
    "# image classifier to extract image features\n",
    "class EfficientNetLSTM(nn.Module):\n",
    "    def __init__(self, num_classes=2, lstm_hidden_size=256, num_lstm_layers=2, dropout_prob=0.2):\n",
    "        super(EfficientNetLSTM, self).__init__()\n",
    "        base_channels = 32\n",
    "\n",
    "        self.stage_1 = nn.Sequential(\n",
    "            nn.Conv2d(3, base_channels, kernel_size=3, stride=2, padding=1, bias=False),\n",
    "            nn.BatchNorm2d(base_channels, momentum=0.99),\n",
    "            nn.SiLU(),\n",
    "            nn.Dropout(dropout_prob)\n",
    "        )\n",
    "\n",
    "        stages = [\n",
    "            [32, 16, 1, 1, 3, 1],\n",
    "            [16, 24, 2, 2, 3, 6],\n",
    "            [24, 40, 2, 2, 5, 6],\n",
    "            [40, 80, 3, 2, 3, 6],\n",
    "            [80, 112, 3, 1, 5, 6],\n",
    "            [112, 192, 4, 2, 5, 6],\n",
    "            [192, 320, 1, 1, 3, 6]\n",
    "        ]\n",
    "\n",
    "        layers = []\n",
    "        in_channels_last = base_channels\n",
    "        for in_channels, out_channels, num_blocks, stride, kernel_size, expansion_ratio in stages:\n",
    "            for i in range(num_blocks):\n",
    "                layers.append(MBConvBlock(\n",
    "                    in_channels_last, \n",
    "                    out_channels, \n",
    "                    expansion_ratio, \n",
    "                    stride if i == 0 else 1, \n",
    "                    kernel_size))\n",
    "                in_channels_last = out_channels\n",
    "\n",
    "        self.mbconv_stages = nn.Sequential(*layers)\n",
    "\n",
    "        self.stage_9 = nn.Sequential(\n",
    "            nn.Conv2d(in_channels_last, 1280, kernel_size=1, bias=False),\n",
    "            nn.BatchNorm2d(1280, momentum=0.99),\n",
    "            nn.SiLU(),\n",
    "            nn.AdaptiveAvgPool2d(1),\n",
    "            nn.Dropout(dropout_prob)\n",
    "        )\n",
    "\n",
    "        self.lstm = nn.LSTM(\n",
    "            input_size=1280, \n",
    "            hidden_size=lstm_hidden_size, \n",
    "            num_layers=num_lstm_layers, \n",
    "            batch_first=True, \n",
    "            bidirectional=False,\n",
    "            dropout=dropout_prob if num_lstm_layers > 1 else 0.0\n",
    "        )\n",
    "\n",
    "        self.fc = nn.Linear(lstm_hidden_size, num_classes)\n",
    "\n",
    "    # extract feature vectors from the model for mulitmodal model\n",
    "    def forward_features(self, x):\n",
    "        # x: [batch, seq_len, C, H, W]\n",
    "        batch_size, seq_len, C, H, W = x.size()\n",
    "        x = x.view(batch_size * seq_len, C, H, W)\n",
    "        x = self.stage_1(x)\n",
    "        x = self.mbconv_stages(x)\n",
    "        x = self.stage_9(x)\n",
    "        x = x.flatten(start_dim=1)\n",
    "        x = x.view(batch_size, seq_len, -1)\n",
    "        lstm_out, (hidden, cell) = self.lstm(x)\n",
    "        last_output = lstm_out[:, -1, :]\n",
    "        return last_output\n",
    "\n",
    "    def forward(self, x):\n",
    "        features = self.forward_features(x)\n",
    "        # if want to forward, just pass the features to the fc layer\n",
    "        out = self.fc(features)\n",
    "        return out\n"
   ]
  },
  {
   "cell_type": "code",
   "execution_count": 5,
   "metadata": {},
   "outputs": [],
   "source": [
    "# text classifier to extract text features\n",
    "class OCRClassifier(nn.Module):\n",
    "    def __init__(self, input_size=6, hidden_size=128, num_classes=2, dropout_prob=0.2):\n",
    "        super(OCRClassifier, self).__init__()\n",
    "        self.fc = nn.Sequential(\n",
    "            nn.Linear(input_size, hidden_size),\n",
    "            nn.ReLU(),\n",
    "            nn.Dropout(dropout_prob),\n",
    "            nn.Linear(hidden_size, hidden_size // 2),\n",
    "            nn.ReLU(),\n",
    "            nn.Dropout(dropout_prob),\n",
    "            nn.Linear(hidden_size // 2, num_classes)\n",
    "        )\n",
    "\n",
    "    # extract feature vectors from the model for mulitmodal model\n",
    "    def forward_features(self, ocr_data):\n",
    "        x = self.fc[0](ocr_data)  \n",
    "        x = self.fc[1](x)         \n",
    "        x = self.fc[2](x)         \n",
    "        x = self.fc[3](x)         \n",
    "        x = self.fc[4](x)         \n",
    "        x = self.fc[5](x)         \n",
    "        return x\n",
    "\n",
    "    def forward(self, ocr_data):\n",
    "        # if want to forward, just pass the features to the fc layer\n",
    "        return self.fc(ocr_data)"
   ]
  },
  {
   "cell_type": "code",
   "execution_count": 6,
   "metadata": {},
   "outputs": [],
   "source": [
    "# multimodal classifier\n",
    "class MultiModalClassifier(nn.Module):\n",
    "    def __init__(self, image_model: EfficientNetLSTM, text_model: OCRClassifier, num_classes=2, freeze_image=False):\n",
    "        super(MultiModalClassifier, self).__init__()\n",
    "        self.image_model = image_model\n",
    "        self.text_model = text_model\n",
    "\n",
    "        # embedding dimension for image and text\n",
    "        img_embed_dim = 256\n",
    "        txt_embed_dim = 64 \n",
    "\n",
    "        # 64 -> 256 for text\n",
    "        self.txt_proj = nn.Linear(txt_embed_dim, img_embed_dim)\n",
    "\n",
    "        # calculate weights foor each modality\n",
    "        self.img_gate = nn.Linear(img_embed_dim + txt_embed_dim, 1)\n",
    "        self.txt_gate = nn.Linear(img_embed_dim + txt_embed_dim, 1)\n",
    "\n",
    "        self.img_gate.bias.data.fill_(0.8)  \n",
    "        self.txt_gate.bias.data.fill_(0.2)  \n",
    "\n",
    "        self.classifier = nn.Linear(img_embed_dim, num_classes)\n",
    "\n",
    "    def forward(self, images, ocr_data):\n",
    "        # get img embedding -> [batch, 256]\n",
    "        img_features = self.image_model.forward_features(images)\n",
    "\n",
    "        # get text embedding -> [batch, 64]\n",
    "        txt_hidden = self.text_model.forward_features(ocr_data) \n",
    "\n",
    "        # concatenate image and text features -> [batch, 320]\n",
    "        combined = torch.cat([img_features, txt_hidden], dim=1) \n",
    "\n",
    "        # calculate weights -> [batch, 1]\n",
    "        img_weight = self.img_gate(combined) \n",
    "        txt_weight = self.txt_gate(combined) \n",
    "\n",
    "        # concatenate weights -> [batch, 2]\n",
    "        weights = torch.cat([img_weight, txt_weight], dim=1) \n",
    "        weights = torch.softmax(weights, dim=1)\n",
    "\n",
    "        # proejcting text features to 256 dim\n",
    "        txt_features_proj = self.txt_proj(txt_hidden)\n",
    "\n",
    "        # fuse\n",
    "        fused = img_features * weights[:,0:1] + txt_features_proj * weights[:,1:2]\n",
    "\n",
    "        # classify\n",
    "        out = self.classifier(fused)\n",
    "        return out"
   ]
  },
  {
   "cell_type": "code",
   "execution_count": 7,
   "metadata": {},
   "outputs": [],
   "source": [
    "class EarlyStopping:\n",
    "    def __init__(self, patience=10, verbose=False, path='./weights/best_model.pth'):\n",
    "        self.patience = patience\n",
    "        self.verbose = verbose\n",
    "        self.counter = 0\n",
    "        self.best_loss = float('inf')\n",
    "        self.early_stop = False\n",
    "        self.path = path\n",
    "    \n",
    "    def __call__(self, val_loss, model):\n",
    "        if val_loss < self.best_loss:\n",
    "            print(f\"Validation loss decreased ({self.best_loss:.4f} -> {val_loss:.4f}). Saving model...\")\n",
    "            self.best_loss = val_loss\n",
    "            self.save_checkpoint(val_loss, model)\n",
    "            self.counter = 0\n",
    "        else:\n",
    "            self.counter += 1\n",
    "            if self.verbose:\n",
    "                print(f\"EarlyStopping counter: {self.counter} out of {self.patience}\")\n",
    "            if self.counter >= self.patience:\n",
    "                self.early_stop = True\n",
    "    \n",
    "    def save_checkpoint(self, val_loss, model):        \n",
    "        torch.save(model.state_dict(), self.path)\n"
   ]
  },
  {
   "cell_type": "code",
   "execution_count": 8,
   "metadata": {},
   "outputs": [],
   "source": [
    "def train(model, train_loader, val_loader, criterion, device, weight_name, num_epochs=100, patience=10, image_lr=1e-5, text_lr=1e-3, weight_decay=1e-4, scheduler=None):\n",
    "\n",
    "    # separate image and text parameters\n",
    "    image_params = []\n",
    "    text_params = []\n",
    "    for name, param in model.named_parameters():\n",
    "        if 'image_model' in name:\n",
    "            image_params.append(param)\n",
    "        else:\n",
    "            text_params.append(param)\n",
    "\n",
    "    # optimiser for image and text parameters\n",
    "    optimizer = optim.AdamW([\n",
    "        {'params': image_params, 'lr': image_lr},  \n",
    "        {'params': text_params, 'lr': text_lr}      \n",
    "    ], weight_decay=weight_decay)\n",
    "\n",
    "\n",
    "    early_stopping = EarlyStopping(patience=patience, verbose=True, path=f'weights/best_{weight_name}.pth')\n",
    "\n",
    "    history = {\n",
    "        'train_loss': [],\n",
    "        'val_loss': [],\n",
    "        'train_acc': [],\n",
    "        'val_acc': []\n",
    "    }\n",
    "\n",
    "    for epoch in range(num_epochs):\n",
    "        print(f\"Epoch {epoch + 1}/{num_epochs}\")\n",
    "        print(\"-\" * 30)\n",
    "\n",
    "        model.train()\n",
    "        train_loss = 0.0\n",
    "        correct_train = 0\n",
    "        total_train = 0\n",
    "\n",
    "        for images, ocr_data, labels in tqdm(train_loader, desc=\"Training\"):\n",
    "            images, ocr_data, labels = images.to(device), ocr_data.to(device), labels.to(device)\n",
    "            optimizer.zero_grad()\n",
    "            outputs = model(images, ocr_data)\n",
    "            loss = criterion(outputs, labels)\n",
    "            loss.backward()\n",
    "            optimizer.step()\n",
    "            if scheduler is not None:\n",
    "                scheduler.step()\n",
    "\n",
    "            train_loss += loss.item() * images.size(0)\n",
    "            _, predicted = torch.max(outputs, 1)\n",
    "            correct_train += (predicted == labels).sum().item()\n",
    "            total_train += labels.size(0)\n",
    "\n",
    "        train_loss /= total_train\n",
    "        train_acc = correct_train / total_train * 100\n",
    "        history['train_acc'].append(train_acc)\n",
    "        history['train_loss'].append(train_loss)\n",
    "\n",
    "        print(f\"Training loss: {train_loss:.4f}, accuracy: {train_acc:.2f}%\")\n",
    "\n",
    "        model.eval()\n",
    "        val_loss = 0.0\n",
    "        correct_val = 0\n",
    "        total_val = 0\n",
    "\n",
    "        with torch.no_grad():\n",
    "            for images, ocr_data, labels in tqdm(val_loader, desc=\"Validation\"):\n",
    "                images, ocr_data, labels = images.to(device), ocr_data.to(device), labels.to(device)\n",
    "                outputs = model(images, ocr_data)\n",
    "                loss = criterion(outputs, labels)\n",
    "\n",
    "                val_loss += loss.item() * images.size(0)\n",
    "                _, predicted = torch.max(outputs, 1)\n",
    "                correct_val += (predicted == labels).sum().item()\n",
    "                total_val += labels.size(0)\n",
    "\n",
    "        val_loss /= total_val\n",
    "        val_acc = correct_val / total_val * 100\n",
    "        history['val_acc'].append(val_acc)\n",
    "        history['val_loss'].append(val_loss)\n",
    "\n",
    "        print(f\"Validation loss: {val_loss:.4f}, accuracy: {val_acc:.2f}%\")\n",
    "\n",
    "        early_stopping(val_loss, model)\n",
    "        if early_stopping.early_stop:\n",
    "            print(\"Early stopping\")\n",
    "            break\n",
    "\n",
    "    model.load_state_dict(torch.load(f'weights/best_{weight_name}.pth'))\n",
    "    print(\"Training completed and the best model is loaded.\")\n",
    "    return model, history\n"
   ]
  },
  {
   "cell_type": "code",
   "execution_count": 9,
   "metadata": {},
   "outputs": [],
   "source": [
    "def test(model, test_loader, criterion, device):\n",
    "    model.eval()\n",
    "    test_loss = 0.0\n",
    "    correct_test = 0\n",
    "    total_test = 0\n",
    "\n",
    "    with torch.no_grad():\n",
    "        for images, ocr_data, labels in tqdm(test_loader, desc=\"Testing\"):\n",
    "            images, ocr_data, labels = images.to(device), ocr_data.to(device), labels.to(device)\n",
    "            outputs = model(images, ocr_data)\n",
    "            loss = criterion(outputs, labels)\n",
    "\n",
    "            test_loss += loss.item() * images.size(0)\n",
    "            _, predicted = torch.max(outputs, 1)\n",
    "            correct_test += (predicted == labels).sum().item()\n",
    "            total_test += labels.size(0)\n",
    "    \n",
    "    test_loss /= total_test\n",
    "    test_accuracy = 100 * correct_test / total_test\n",
    "    print(f\"Test loss: {test_loss:.4f}, accuracy: {test_accuracy:.2f}%\")\n",
    "    return test_loss, test_accuracy\n"
   ]
  },
  {
   "cell_type": "code",
   "execution_count": 9,
   "metadata": {},
   "outputs": [],
   "source": [
    "def plot_history(history, save_path=None):\n",
    "\n",
    "    fig, axes = plt.subplots(1, 2, figsize=(14, 5))\n",
    "\n",
    "    # loss graph\n",
    "    axes[0].plot(history['train_loss'], label='Train Loss')\n",
    "    axes[0].plot(history['val_loss'], label='Validation Loss')\n",
    "    axes[0].set_title('Loss Over Epochs')\n",
    "    axes[0].set_xlabel('Epochs')\n",
    "    axes[0].set_ylabel('Loss')\n",
    "    axes[0].legend()\n",
    "    axes[0].grid(True)\n",
    "\n",
    "    # accuracy graph\n",
    "    axes[1].plot(history['train_acc'], label='Train Accuracy')\n",
    "    axes[1].plot(history['val_acc'], label='Validation Accuracy')\n",
    "    axes[1].set_title('Accuracy Over Epochs')\n",
    "    axes[1].set_xlabel('Epochs')\n",
    "    axes[1].set_ylabel('Accuracy (%)')\n",
    "    axes[1].legend()\n",
    "    axes[1].grid(True)\n",
    "\n",
    "    plt.tight_layout()\n",
    "    if save_path:\n",
    "        plt.savefig(f\"{save_path}_combined.png\")\n",
    "    plt.show()\n",
    "\n",
    "    # save individual plots\n",
    "    # trian loss\n",
    "    plt.figure(figsize=(7, 5))\n",
    "    plt.plot(history['train_loss'], label='Train Loss')\n",
    "    plt.title('Train Loss Over Epochs')\n",
    "    plt.xlabel('Epochs')\n",
    "    plt.ylabel('Loss')\n",
    "    plt.legend()\n",
    "    plt.grid(True)\n",
    "    if save_path:\n",
    "        plt.savefig(f\"{save_path}_train_loss.png\")\n",
    "    plt.show()\n",
    "\n",
    "    # validation loss\n",
    "    plt.figure(figsize=(7, 5))\n",
    "    plt.plot(history['val_loss'], label='Validation Loss', color='orange')\n",
    "    plt.title('Validation Loss Over Epochs')\n",
    "    plt.xlabel('Epochs')\n",
    "    plt.ylabel('Loss')\n",
    "    plt.legend()\n",
    "    plt.grid(True)\n",
    "    if save_path:\n",
    "        plt.savefig(f\"{save_path}_val_loss.png\")\n",
    "    plt.show()\n",
    "\n",
    "    # train accuracy\n",
    "    plt.figure(figsize=(7, 5))\n",
    "    plt.plot(history['train_acc'], label='Train Accuracy', color='green')\n",
    "    plt.title('Train Accuracy Over Epochs')\n",
    "    plt.xlabel('Epochs')\n",
    "    plt.ylabel('Accuracy (%)')\n",
    "    plt.legend()\n",
    "    plt.grid(True)\n",
    "    if save_path:\n",
    "        plt.savefig(f\"{save_path}_train_acc.png\")\n",
    "    plt.show()\n",
    "\n",
    "    # validation accuracy\n",
    "    plt.figure(figsize=(7, 5))\n",
    "    plt.plot(history['val_acc'], label='Validation Accuracy', color='red')\n",
    "    plt.title('Validation Accuracy Over Epochs')\n",
    "    plt.xlabel('Epochs')\n",
    "    plt.ylabel('Accuracy (%)')\n",
    "    plt.legend()\n",
    "    plt.grid(True)\n",
    "    if save_path:\n",
    "        plt.savefig(f\"{save_path}_val_acc.png\")\n",
    "    plt.show()"
   ]
  },
  {
   "cell_type": "code",
   "execution_count": 11,
   "metadata": {},
   "outputs": [],
   "source": [
    "train_csv = './data/maksed_frame_split_by_match_pair_ocr/train/pairs.csv'\n",
    "val_csv = './data/maksed_frame_split_by_match_pair_ocr/val/pairs.csv'\n",
    "test_csv = './data/maksed_frame_split_by_match_pair_ocr/test/pairs.csv'\n",
    "\n",
    "transform = transforms.Compose([\n",
    "    transforms.Resize((600, 600)),\n",
    "    transforms.ToTensor(),\n",
    "    transforms.Normalize(mean=[0.485, 0.456, 0.406], std=[0.229, 0.224, 0.225])\n",
    "])\n",
    "\n",
    "batch_size = 4\n",
    "train_dataset = MultiModalDataset(train_csv, transform=transform)\n",
    "val_dataset = MultiModalDataset(val_csv, transform=transform)\n",
    "test_dataset = MultiModalDataset(test_csv, transform=transform)\n",
    "\n",
    "train_loader = DataLoader(train_dataset, batch_size=batch_size, shuffle=True)\n",
    "val_loader = DataLoader(val_dataset, batch_size=batch_size, shuffle=False)\n",
    "test_loader = DataLoader(test_dataset, batch_size=batch_size, shuffle=False)"
   ]
  },
  {
   "cell_type": "code",
   "execution_count": 15,
   "metadata": {},
   "outputs": [
    {
     "name": "stdout",
     "output_type": "stream",
     "text": [
      "Epoch 1/50\n",
      "------------------------------\n"
     ]
    },
    {
     "name": "stderr",
     "output_type": "stream",
     "text": [
      "Training:   0%|          | 0/3121 [00:00<?, ?it/s]"
     ]
    },
    {
     "name": "stderr",
     "output_type": "stream",
     "text": [
      "Training: 100%|██████████| 3121/3121 [19:35<00:00,  2.66it/s]\n"
     ]
    },
    {
     "name": "stdout",
     "output_type": "stream",
     "text": [
      "Training loss: 0.6324, accuracy: 64.51%\n"
     ]
    },
    {
     "name": "stderr",
     "output_type": "stream",
     "text": [
      "Validation: 100%|██████████| 94/94 [00:29<00:00,  3.14it/s]\n"
     ]
    },
    {
     "name": "stdout",
     "output_type": "stream",
     "text": [
      "Validation loss: 0.4928, accuracy: 90.40%\n",
      "Validation loss decreased (inf -> 0.4928). Saving model...\n",
      "Epoch 2/50\n",
      "------------------------------\n"
     ]
    },
    {
     "name": "stderr",
     "output_type": "stream",
     "text": [
      "Training: 100%|██████████| 3121/3121 [19:30<00:00,  2.67it/s]\n"
     ]
    },
    {
     "name": "stdout",
     "output_type": "stream",
     "text": [
      "Training loss: 0.5004, accuracy: 76.26%\n"
     ]
    },
    {
     "name": "stderr",
     "output_type": "stream",
     "text": [
      "Validation: 100%|██████████| 94/94 [00:29<00:00,  3.14it/s]\n"
     ]
    },
    {
     "name": "stdout",
     "output_type": "stream",
     "text": [
      "Validation loss: 0.3697, accuracy: 88.80%\n",
      "Validation loss decreased (0.4928 -> 0.3697). Saving model...\n",
      "Epoch 3/50\n",
      "------------------------------\n"
     ]
    },
    {
     "name": "stderr",
     "output_type": "stream",
     "text": [
      "Training: 100%|██████████| 3121/3121 [19:31<00:00,  2.66it/s]\n"
     ]
    },
    {
     "name": "stdout",
     "output_type": "stream",
     "text": [
      "Training loss: 0.4380, accuracy: 79.70%\n"
     ]
    },
    {
     "name": "stderr",
     "output_type": "stream",
     "text": [
      "Validation: 100%|██████████| 94/94 [00:29<00:00,  3.13it/s]\n"
     ]
    },
    {
     "name": "stdout",
     "output_type": "stream",
     "text": [
      "Validation loss: 0.3306, accuracy: 86.13%\n",
      "Validation loss decreased (0.3697 -> 0.3306). Saving model...\n",
      "Epoch 4/50\n",
      "------------------------------\n"
     ]
    },
    {
     "name": "stderr",
     "output_type": "stream",
     "text": [
      "Training: 100%|██████████| 3121/3121 [19:30<00:00,  2.67it/s]\n"
     ]
    },
    {
     "name": "stdout",
     "output_type": "stream",
     "text": [
      "Training loss: 0.4117, accuracy: 81.06%\n"
     ]
    },
    {
     "name": "stderr",
     "output_type": "stream",
     "text": [
      "Validation: 100%|██████████| 94/94 [00:30<00:00,  3.11it/s]\n"
     ]
    },
    {
     "name": "stdout",
     "output_type": "stream",
     "text": [
      "Validation loss: 0.3057, accuracy: 86.13%\n",
      "Validation loss decreased (0.3306 -> 0.3057). Saving model...\n",
      "Epoch 5/50\n",
      "------------------------------\n"
     ]
    },
    {
     "name": "stderr",
     "output_type": "stream",
     "text": [
      "Training: 100%|██████████| 3121/3121 [19:31<00:00,  2.66it/s]\n"
     ]
    },
    {
     "name": "stdout",
     "output_type": "stream",
     "text": [
      "Training loss: 0.3973, accuracy: 81.65%\n"
     ]
    },
    {
     "name": "stderr",
     "output_type": "stream",
     "text": [
      "Validation: 100%|██████████| 94/94 [00:30<00:00,  3.13it/s]\n"
     ]
    },
    {
     "name": "stdout",
     "output_type": "stream",
     "text": [
      "Validation loss: 0.2970, accuracy: 86.13%\n",
      "Validation loss decreased (0.3057 -> 0.2970). Saving model...\n",
      "Epoch 6/50\n",
      "------------------------------\n"
     ]
    },
    {
     "name": "stderr",
     "output_type": "stream",
     "text": [
      "Training: 100%|██████████| 3121/3121 [19:36<00:00,  2.65it/s]\n"
     ]
    },
    {
     "name": "stdout",
     "output_type": "stream",
     "text": [
      "Training loss: 0.3856, accuracy: 82.70%\n"
     ]
    },
    {
     "name": "stderr",
     "output_type": "stream",
     "text": [
      "Validation: 100%|██████████| 94/94 [00:31<00:00,  2.98it/s]\n"
     ]
    },
    {
     "name": "stdout",
     "output_type": "stream",
     "text": [
      "Validation loss: 0.2818, accuracy: 87.47%\n",
      "Validation loss decreased (0.2970 -> 0.2818). Saving model...\n",
      "Epoch 7/50\n",
      "------------------------------\n"
     ]
    },
    {
     "name": "stderr",
     "output_type": "stream",
     "text": [
      "Training: 100%|██████████| 3121/3121 [19:55<00:00,  2.61it/s]\n"
     ]
    },
    {
     "name": "stdout",
     "output_type": "stream",
     "text": [
      "Training loss: 0.3782, accuracy: 82.45%\n"
     ]
    },
    {
     "name": "stderr",
     "output_type": "stream",
     "text": [
      "Validation: 100%|██████████| 94/94 [00:33<00:00,  2.84it/s]\n"
     ]
    },
    {
     "name": "stdout",
     "output_type": "stream",
     "text": [
      "Validation loss: 0.2773, accuracy: 86.40%\n",
      "Validation loss decreased (0.2818 -> 0.2773). Saving model...\n",
      "Epoch 8/50\n",
      "------------------------------\n"
     ]
    },
    {
     "name": "stderr",
     "output_type": "stream",
     "text": [
      "Training: 100%|██████████| 3121/3121 [20:43<00:00,  2.51it/s]\n"
     ]
    },
    {
     "name": "stdout",
     "output_type": "stream",
     "text": [
      "Training loss: 0.3765, accuracy: 83.21%\n"
     ]
    },
    {
     "name": "stderr",
     "output_type": "stream",
     "text": [
      "Validation: 100%|██████████| 94/94 [00:30<00:00,  3.13it/s]\n"
     ]
    },
    {
     "name": "stdout",
     "output_type": "stream",
     "text": [
      "Validation loss: 0.2775, accuracy: 86.40%\n",
      "EarlyStopping counter: 1 out of 3\n",
      "Epoch 9/50\n",
      "------------------------------\n"
     ]
    },
    {
     "name": "stderr",
     "output_type": "stream",
     "text": [
      "Training: 100%|██████████| 3121/3121 [19:35<00:00,  2.65it/s]\n"
     ]
    },
    {
     "name": "stdout",
     "output_type": "stream",
     "text": [
      "Training loss: 0.3641, accuracy: 83.74%\n"
     ]
    },
    {
     "name": "stderr",
     "output_type": "stream",
     "text": [
      "Validation: 100%|██████████| 94/94 [00:30<00:00,  3.11it/s]\n"
     ]
    },
    {
     "name": "stdout",
     "output_type": "stream",
     "text": [
      "Validation loss: 0.2775, accuracy: 86.13%\n",
      "EarlyStopping counter: 2 out of 3\n",
      "Epoch 10/50\n",
      "------------------------------\n"
     ]
    },
    {
     "name": "stderr",
     "output_type": "stream",
     "text": [
      "Training: 100%|██████████| 3121/3121 [19:32<00:00,  2.66it/s]\n"
     ]
    },
    {
     "name": "stdout",
     "output_type": "stream",
     "text": [
      "Training loss: 0.3600, accuracy: 83.81%\n"
     ]
    },
    {
     "name": "stderr",
     "output_type": "stream",
     "text": [
      "Validation: 100%|██████████| 94/94 [00:30<00:00,  3.11it/s]\n"
     ]
    },
    {
     "name": "stdout",
     "output_type": "stream",
     "text": [
      "Validation loss: 0.2705, accuracy: 86.67%\n",
      "Validation loss decreased (0.2773 -> 0.2705). Saving model...\n",
      "Epoch 11/50\n",
      "------------------------------\n"
     ]
    },
    {
     "name": "stderr",
     "output_type": "stream",
     "text": [
      "Training: 100%|██████████| 3121/3121 [19:31<00:00,  2.66it/s]\n"
     ]
    },
    {
     "name": "stdout",
     "output_type": "stream",
     "text": [
      "Training loss: 0.3599, accuracy: 83.76%\n"
     ]
    },
    {
     "name": "stderr",
     "output_type": "stream",
     "text": [
      "Validation: 100%|██████████| 94/94 [00:30<00:00,  3.10it/s]\n"
     ]
    },
    {
     "name": "stdout",
     "output_type": "stream",
     "text": [
      "Validation loss: 0.2674, accuracy: 87.20%\n",
      "Validation loss decreased (0.2705 -> 0.2674). Saving model...\n",
      "Epoch 12/50\n",
      "------------------------------\n"
     ]
    },
    {
     "name": "stderr",
     "output_type": "stream",
     "text": [
      "Training: 100%|██████████| 3121/3121 [19:31<00:00,  2.67it/s]\n"
     ]
    },
    {
     "name": "stdout",
     "output_type": "stream",
     "text": [
      "Training loss: 0.3524, accuracy: 83.92%\n"
     ]
    },
    {
     "name": "stderr",
     "output_type": "stream",
     "text": [
      "Validation: 100%|██████████| 94/94 [00:30<00:00,  3.13it/s]\n"
     ]
    },
    {
     "name": "stdout",
     "output_type": "stream",
     "text": [
      "Validation loss: 0.2736, accuracy: 86.40%\n",
      "EarlyStopping counter: 1 out of 3\n",
      "Epoch 13/50\n",
      "------------------------------\n"
     ]
    },
    {
     "name": "stderr",
     "output_type": "stream",
     "text": [
      "Training: 100%|██████████| 3121/3121 [19:33<00:00,  2.66it/s]\n"
     ]
    },
    {
     "name": "stdout",
     "output_type": "stream",
     "text": [
      "Training loss: 0.3518, accuracy: 84.10%\n"
     ]
    },
    {
     "name": "stderr",
     "output_type": "stream",
     "text": [
      "Validation: 100%|██████████| 94/94 [00:30<00:00,  3.12it/s]\n"
     ]
    },
    {
     "name": "stdout",
     "output_type": "stream",
     "text": [
      "Validation loss: 0.2636, accuracy: 86.40%\n",
      "Validation loss decreased (0.2674 -> 0.2636). Saving model...\n",
      "Epoch 14/50\n",
      "------------------------------\n"
     ]
    },
    {
     "name": "stderr",
     "output_type": "stream",
     "text": [
      "Training: 100%|██████████| 3121/3121 [19:31<00:00,  2.66it/s]\n"
     ]
    },
    {
     "name": "stdout",
     "output_type": "stream",
     "text": [
      "Training loss: 0.3442, accuracy: 84.65%\n"
     ]
    },
    {
     "name": "stderr",
     "output_type": "stream",
     "text": [
      "Validation: 100%|██████████| 94/94 [00:30<00:00,  3.11it/s]\n"
     ]
    },
    {
     "name": "stdout",
     "output_type": "stream",
     "text": [
      "Validation loss: 0.2605, accuracy: 87.73%\n",
      "Validation loss decreased (0.2636 -> 0.2605). Saving model...\n",
      "Epoch 15/50\n",
      "------------------------------\n"
     ]
    },
    {
     "name": "stderr",
     "output_type": "stream",
     "text": [
      "Training: 100%|██████████| 3121/3121 [19:35<00:00,  2.66it/s]\n"
     ]
    },
    {
     "name": "stdout",
     "output_type": "stream",
     "text": [
      "Training loss: 0.3404, accuracy: 84.51%\n"
     ]
    },
    {
     "name": "stderr",
     "output_type": "stream",
     "text": [
      "Validation: 100%|██████████| 94/94 [00:30<00:00,  3.12it/s]\n"
     ]
    },
    {
     "name": "stdout",
     "output_type": "stream",
     "text": [
      "Validation loss: 0.2628, accuracy: 86.40%\n",
      "EarlyStopping counter: 1 out of 3\n",
      "Epoch 16/50\n",
      "------------------------------\n"
     ]
    },
    {
     "name": "stderr",
     "output_type": "stream",
     "text": [
      "Training: 100%|██████████| 3121/3121 [20:00<00:00,  2.60it/s]\n"
     ]
    },
    {
     "name": "stdout",
     "output_type": "stream",
     "text": [
      "Training loss: 0.3386, accuracy: 84.59%\n"
     ]
    },
    {
     "name": "stderr",
     "output_type": "stream",
     "text": [
      "Validation: 100%|██████████| 94/94 [00:30<00:00,  3.06it/s]\n"
     ]
    },
    {
     "name": "stdout",
     "output_type": "stream",
     "text": [
      "Validation loss: 0.2609, accuracy: 86.40%\n",
      "EarlyStopping counter: 2 out of 3\n",
      "Epoch 17/50\n",
      "------------------------------\n"
     ]
    },
    {
     "name": "stderr",
     "output_type": "stream",
     "text": [
      "Training: 100%|██████████| 3121/3121 [20:07<00:00,  2.59it/s]\n"
     ]
    },
    {
     "name": "stdout",
     "output_type": "stream",
     "text": [
      "Training loss: 0.3397, accuracy: 84.32%\n"
     ]
    },
    {
     "name": "stderr",
     "output_type": "stream",
     "text": [
      "Validation: 100%|██████████| 94/94 [00:30<00:00,  3.05it/s]\n"
     ]
    },
    {
     "name": "stdout",
     "output_type": "stream",
     "text": [
      "Validation loss: 0.2589, accuracy: 86.40%\n",
      "Validation loss decreased (0.2605 -> 0.2589). Saving model...\n",
      "Epoch 18/50\n",
      "------------------------------\n"
     ]
    },
    {
     "name": "stderr",
     "output_type": "stream",
     "text": [
      "Training: 100%|██████████| 3121/3121 [37:08<00:00,  1.40it/s]\n"
     ]
    },
    {
     "name": "stdout",
     "output_type": "stream",
     "text": [
      "Training loss: 0.3359, accuracy: 84.38%\n"
     ]
    },
    {
     "name": "stderr",
     "output_type": "stream",
     "text": [
      "Validation: 100%|██████████| 94/94 [01:12<00:00,  1.30it/s]\n"
     ]
    },
    {
     "name": "stdout",
     "output_type": "stream",
     "text": [
      "Validation loss: 0.2612, accuracy: 86.40%\n",
      "EarlyStopping counter: 1 out of 3\n",
      "Epoch 19/50\n",
      "------------------------------\n"
     ]
    },
    {
     "name": "stderr",
     "output_type": "stream",
     "text": [
      "Training: 100%|██████████| 3121/3121 [40:45<00:00,  1.28it/s]\n"
     ]
    },
    {
     "name": "stdout",
     "output_type": "stream",
     "text": [
      "Training loss: 0.3362, accuracy: 84.45%\n"
     ]
    },
    {
     "name": "stderr",
     "output_type": "stream",
     "text": [
      "Validation: 100%|██████████| 94/94 [01:11<00:00,  1.31it/s]\n"
     ]
    },
    {
     "name": "stdout",
     "output_type": "stream",
     "text": [
      "Validation loss: 0.2586, accuracy: 87.20%\n",
      "Validation loss decreased (0.2589 -> 0.2586). Saving model...\n",
      "Epoch 20/50\n",
      "------------------------------\n"
     ]
    },
    {
     "name": "stderr",
     "output_type": "stream",
     "text": [
      "Training: 100%|██████████| 3121/3121 [40:19<00:00,  1.29it/s]\n"
     ]
    },
    {
     "name": "stdout",
     "output_type": "stream",
     "text": [
      "Training loss: 0.3335, accuracy: 84.62%\n"
     ]
    },
    {
     "name": "stderr",
     "output_type": "stream",
     "text": [
      "Validation: 100%|██████████| 94/94 [01:11<00:00,  1.31it/s]\n"
     ]
    },
    {
     "name": "stdout",
     "output_type": "stream",
     "text": [
      "Validation loss: 0.2622, accuracy: 86.67%\n",
      "EarlyStopping counter: 1 out of 3\n",
      "Epoch 21/50\n",
      "------------------------------\n"
     ]
    },
    {
     "name": "stderr",
     "output_type": "stream",
     "text": [
      "Training: 100%|██████████| 3121/3121 [40:21<00:00,  1.29it/s]\n"
     ]
    },
    {
     "name": "stdout",
     "output_type": "stream",
     "text": [
      "Training loss: 0.3288, accuracy: 85.09%\n"
     ]
    },
    {
     "name": "stderr",
     "output_type": "stream",
     "text": [
      "Validation: 100%|██████████| 94/94 [01:09<00:00,  1.35it/s]\n"
     ]
    },
    {
     "name": "stdout",
     "output_type": "stream",
     "text": [
      "Validation loss: 0.2580, accuracy: 86.40%\n",
      "Validation loss decreased (0.2586 -> 0.2580). Saving model...\n",
      "Epoch 22/50\n",
      "------------------------------\n"
     ]
    },
    {
     "name": "stderr",
     "output_type": "stream",
     "text": [
      "Training: 100%|██████████| 3121/3121 [30:56<00:00,  1.68it/s]\n"
     ]
    },
    {
     "name": "stdout",
     "output_type": "stream",
     "text": [
      "Training loss: 0.3276, accuracy: 85.23%\n"
     ]
    },
    {
     "name": "stderr",
     "output_type": "stream",
     "text": [
      "Validation: 100%|██████████| 94/94 [00:40<00:00,  2.32it/s]\n"
     ]
    },
    {
     "name": "stdout",
     "output_type": "stream",
     "text": [
      "Validation loss: 0.2493, accuracy: 87.20%\n",
      "Validation loss decreased (0.2580 -> 0.2493). Saving model...\n",
      "Epoch 23/50\n",
      "------------------------------\n"
     ]
    },
    {
     "name": "stderr",
     "output_type": "stream",
     "text": [
      "Training: 100%|██████████| 3121/3121 [24:35<00:00,  2.12it/s]\n"
     ]
    },
    {
     "name": "stdout",
     "output_type": "stream",
     "text": [
      "Training loss: 0.3295, accuracy: 84.90%\n"
     ]
    },
    {
     "name": "stderr",
     "output_type": "stream",
     "text": [
      "Validation: 100%|██████████| 94/94 [00:31<00:00,  3.02it/s]\n"
     ]
    },
    {
     "name": "stdout",
     "output_type": "stream",
     "text": [
      "Validation loss: 0.2535, accuracy: 87.20%\n",
      "EarlyStopping counter: 1 out of 3\n",
      "Epoch 24/50\n",
      "------------------------------\n"
     ]
    },
    {
     "name": "stderr",
     "output_type": "stream",
     "text": [
      "Training: 100%|██████████| 3121/3121 [20:01<00:00,  2.60it/s]\n"
     ]
    },
    {
     "name": "stdout",
     "output_type": "stream",
     "text": [
      "Training loss: 0.3280, accuracy: 84.57%\n"
     ]
    },
    {
     "name": "stderr",
     "output_type": "stream",
     "text": [
      "Validation: 100%|██████████| 94/94 [00:30<00:00,  3.11it/s]\n"
     ]
    },
    {
     "name": "stdout",
     "output_type": "stream",
     "text": [
      "Validation loss: 0.2529, accuracy: 87.47%\n",
      "EarlyStopping counter: 2 out of 3\n",
      "Epoch 25/50\n",
      "------------------------------\n"
     ]
    },
    {
     "name": "stderr",
     "output_type": "stream",
     "text": [
      "Training: 100%|██████████| 3121/3121 [19:59<00:00,  2.60it/s]\n"
     ]
    },
    {
     "name": "stdout",
     "output_type": "stream",
     "text": [
      "Training loss: 0.3233, accuracy: 84.91%\n"
     ]
    },
    {
     "name": "stderr",
     "output_type": "stream",
     "text": [
      "Validation: 100%|██████████| 94/94 [00:30<00:00,  3.06it/s]"
     ]
    },
    {
     "name": "stdout",
     "output_type": "stream",
     "text": [
      "Validation loss: 0.2548, accuracy: 86.67%\n",
      "EarlyStopping counter: 3 out of 3\n",
      "Early stopping\n",
      "Training completed and the best model is loaded.\n"
     ]
    },
    {
     "name": "stderr",
     "output_type": "stream",
     "text": [
      "\n",
      "/tmp/ipykernel_343075/3564159510.py:89: FutureWarning: You are using `torch.load` with `weights_only=False` (the current default value), which uses the default pickle module implicitly. It is possible to construct malicious pickle data which will execute arbitrary code during unpickling (See https://github.com/pytorch/pytorch/blob/main/SECURITY.md#untrusted-models for more details). In a future release, the default value for `weights_only` will be flipped to `True`. This limits the functions that could be executed during unpickling. Arbitrary objects will no longer be allowed to be loaded via this mode unless they are explicitly allowlisted by the user via `torch.serialization.add_safe_globals`. We recommend you start setting `weights_only=True` for any use case where you don't have full control of the loaded file. Please open an issue on GitHub for any issues related to this experimental feature.\n",
      "  model.load_state_dict(torch.load(f'weights/best_{weight_name}.pth'))\n"
     ]
    }
   ],
   "source": [
    "image_model = EfficientNetLSTM(num_classes=2).to(device)\n",
    "text_model = OCRClassifier(input_size=6, hidden_size=128, num_classes=2).to(device)\n",
    "model = MultiModalClassifier(image_model, text_model, num_classes=2, freeze_image=False).to(device)\n",
    "\n",
    "criterion = nn.CrossEntropyLoss()\n",
    "\n",
    "weight_name = \"multimodal\"\n",
    "num_epochs = 50\n",
    "patience = 3\n",
    "\n",
    "image_lr = 1e-5\n",
    "text_lr = 1e-5\n",
    "weight_decay = 1e-4\n",
    "\n",
    "model, history = train(model=model, \n",
    "                       train_loader=train_loader, \n",
    "                       val_loader=val_loader, \n",
    "                       criterion=criterion,\n",
    "                       device=device,\n",
    "                       weight_name=weight_name, \n",
    "                       num_epochs=num_epochs, \n",
    "                       patience=patience, \n",
    "                       image_lr=image_lr, \n",
    "                       text_lr=text_lr, \n",
    "                       weight_decay=weight_decay)\n"
   ]
  },
  {
   "cell_type": "code",
   "execution_count": 16,
   "metadata": {},
   "outputs": [
    {
     "name": "stderr",
     "output_type": "stream",
     "text": [
      "Testing: 100%|██████████| 98/98 [00:57<00:00,  1.70it/s]"
     ]
    },
    {
     "name": "stdout",
     "output_type": "stream",
     "text": [
      "Test loss: 0.3582, accuracy: 82.10%\n"
     ]
    },
    {
     "name": "stderr",
     "output_type": "stream",
     "text": [
      "\n"
     ]
    }
   ],
   "source": [
    "test_loss, test_accuracy = test(model, test_loader, criterion, device)"
   ]
  },
  {
   "cell_type": "code",
   "execution_count": 21,
   "metadata": {},
   "outputs": [
    {
     "data": {
      "image/png": "[encoded data removed]",
      "text/plain": [
       "<Figure size 1400x500 with 2 Axes>"
      ]
     },
     "metadata": {},
     "output_type": "display_data"
    },
    {
     "data": {
      "image/png": "[encoded data removed]",
      "text/plain": [
       "<Figure size 700x500 with 1 Axes>"
      ]
     },
     "metadata": {},
     "output_type": "display_data"
    },
    {
     "data": {
      "image/png": "[encoded data removed]",
      "text/plain": [
       "<Figure size 700x500 with 1 Axes>"
      ]
     },
     "metadata": {},
     "output_type": "display_data"
    },
    {
     "data": {
      "image/png": "[encoded data removed]",
      "text/plain": [
       "<Figure size 700x500 with 1 Axes>"
      ]
     },
     "metadata": {},
     "output_type": "display_data"
    },
    {
     "data": {
      "image/png": "[encoded data removed]",
      "text/plain": [
       "<Figure size 700x500 with 1 Axes>"
      ]
     },
     "metadata": {},
     "output_type": "display_data"
    }
   ],
   "source": [
    "plot_history(history, save_path='./graphs/multimodal_results')"
   ]
  },
  {
   "cell_type": "code",
   "execution_count": null,
   "metadata": {},
   "outputs": [],
   "source": [
    "# check misclassified pairs"
   ]
  },
  {
   "cell_type": "code",
   "execution_count": 22,
   "metadata": {},
   "outputs": [],
   "source": [
    "class MultiModalDataset(Dataset):\n",
    "    def __init__(self, pairs_csv, transform=None):\n",
    "        self.data = pd.read_csv(pairs_csv)\n",
    "        self.transform = transform\n",
    "\n",
    "    def __len__(self):\n",
    "        return len(self.data) // 3\n",
    "\n",
    "    def __getitem__(self, idx):\n",
    "        start_idx = idx * 3\n",
    "        pair_data = self.data.iloc[start_idx:start_idx + 3]\n",
    "\n",
    "        images = []\n",
    "        label = pair_data.iloc[0]['label']\n",
    "        \n",
    "        for _, row in pair_data.iterrows():\n",
    "            image_path = row['file']\n",
    "            image = Image.open(image_path).convert(\"RGB\")\n",
    "            if self.transform:\n",
    "                image = self.transform(image)\n",
    "            images.append(image)\n",
    "        \n",
    "        combined_images = torch.stack(images)\n",
    "\n",
    "        \n",
    "        ocr_values = []\n",
    "        for _, row in pair_data.iterrows():\n",
    "            ocr_info = row[['region_1','region_2','region_3','region_4','region_5','region_6']].values\n",
    "            ocr_numeric = []\n",
    "            for value in ocr_info:\n",
    "                try:\n",
    "                    if isinstance(value, str):\n",
    "                        value = value.replace('I', '1').replace('\"', '')\n",
    "                        if 'K' in value:\n",
    "                            value = float(value.replace('K', ''))\n",
    "                    ocr_numeric.append(float(value))\n",
    "                except ValueError:\n",
    "                    ocr_numeric.append(0.0)\n",
    "            ocr_values.append(ocr_numeric)\n",
    "        \n",
    "        ocr_tensor = torch.tensor(ocr_values, dtype=torch.float32).mean(dim=0)\n",
    "\n",
    "        # add file names\n",
    "        files = pair_data['file'].values.tolist()\n",
    "        \n",
    "        return combined_images, ocr_tensor, label, files\n"
   ]
  },
  {
   "cell_type": "code",
   "execution_count": 23,
   "metadata": {},
   "outputs": [],
   "source": [
    "train_csv = './data/maksed_frame_split_by_match_pair_ocr/train/pairs.csv'\n",
    "val_csv = './data/maksed_frame_split_by_match_pair_ocr/val/pairs.csv'\n",
    "test_csv = './data/maksed_frame_split_by_match_pair_ocr/test/pairs.csv'\n",
    "\n",
    "transform = transforms.Compose([\n",
    "    transforms.Resize((600, 600)),\n",
    "    transforms.ToTensor(),\n",
    "    transforms.Normalize(mean=[0.485, 0.456, 0.406], std=[0.229, 0.224, 0.225])\n",
    "])\n",
    "\n",
    "batch_size = 4\n",
    "train_dataset = MultiModalDataset(train_csv, transform=transform)\n",
    "val_dataset = MultiModalDataset(val_csv, transform=transform)\n",
    "test_dataset = MultiModalDataset(test_csv, transform=transform)\n",
    "\n",
    "train_loader = DataLoader(train_dataset, batch_size=batch_size, shuffle=True)\n",
    "val_loader = DataLoader(val_dataset, batch_size=batch_size, shuffle=False)\n",
    "test_loader = DataLoader(test_dataset, batch_size=batch_size, shuffle=False)"
   ]
  },
  {
   "cell_type": "code",
   "execution_count": 24,
   "metadata": {},
   "outputs": [],
   "source": [
    "def print_misclassified(model, test_loader, criterion, device):\n",
    "    model.eval()\n",
    "    test_loss = 0.0\n",
    "    correct_test = 0\n",
    "    total_test = 0\n",
    "    misclassified_pairs = []\n",
    "\n",
    "    with torch.no_grad():\n",
    "        for images, ocr_data, labels, files in tqdm(test_loader, desc=\"Testing\"):\n",
    "            images, ocr_data, labels = images.to(device), ocr_data.to(device), labels.to(device)\n",
    "            outputs = model(images, ocr_data)\n",
    "            loss = criterion(outputs, labels)\n",
    "\n",
    "            test_loss += loss.item() * images.size(0)\n",
    "            _, predicted = torch.max(outputs, 1)\n",
    "            correct_test += (predicted == labels).sum().item()\n",
    "            total_test += labels.size(0)\n",
    "\n",
    "            # record misclassified pairs\n",
    "            for i in range(labels.size(0)):\n",
    "                if predicted[i] != labels[i]:\n",
    "                    \n",
    "                    misclassified_pairs.append(files) \n",
    "\n",
    "    test_loss /= total_test\n",
    "    test_accuracy = 100 * correct_test / total_test\n",
    "    print(f\"Test loss: {test_loss:.4f}, accuracy: {test_accuracy:.2f}%\")\n",
    "\n",
    "    if misclassified_pairs:\n",
    "        print(\"Misclassified Pairs:\")\n",
    "        for i, pair_files in enumerate(misclassified_pairs, start=1):\n",
    "            print(f\"{i}. {pair_files}\")\n",
    "    else:\n",
    "        print(\"No misclassified pairs.\")\n",
    "\n",
    "    return test_loss, test_accuracy\n"
   ]
  },
  {
   "cell_type": "code",
   "execution_count": 25,
   "metadata": {},
   "outputs": [
    {
     "name": "stderr",
     "output_type": "stream",
     "text": [
      "Testing: 100%|██████████| 98/98 [00:30<00:00,  3.17it/s]"
     ]
    },
    {
     "name": "stdout",
     "output_type": "stream",
     "text": [
      "Test loss: 0.3582, accuracy: 82.10%\n",
      "Misclassified Pairs:\n",
      "1. [('./data/maksed_frame_split_by_match_pair_ocr/test/104/104_pair_5_early.jpg', './data/maksed_frame_split_by_match_pair_ocr/test/104/104_pair_6_early.jpg', './data/maksed_frame_split_by_match_pair_ocr/test/104/104_pair_7_early.jpg', './data/maksed_frame_split_by_match_pair_ocr/test/104/104_pair_8_early.jpg'), ('./data/maksed_frame_split_by_match_pair_ocr/test/104/104_pair_5_mid.jpg', './data/maksed_frame_split_by_match_pair_ocr/test/104/104_pair_6_mid.jpg', './data/maksed_frame_split_by_match_pair_ocr/test/104/104_pair_7_mid.jpg', './data/maksed_frame_split_by_match_pair_ocr/test/104/104_pair_8_mid.jpg'), ('./data/maksed_frame_split_by_match_pair_ocr/test/104/104_pair_5_late.jpg', './data/maksed_frame_split_by_match_pair_ocr/test/104/104_pair_6_late.jpg', './data/maksed_frame_split_by_match_pair_ocr/test/104/104_pair_7_late.jpg', './data/maksed_frame_split_by_match_pair_ocr/test/104/104_pair_8_late.jpg')]\n",
      "2. [('./data/maksed_frame_split_by_match_pair_ocr/test/105/105_pair_1_early.jpg', './data/maksed_frame_split_by_match_pair_ocr/test/105/105_pair_2_early.jpg', './data/maksed_frame_split_by_match_pair_ocr/test/105/105_pair_3_early.jpg', './data/maksed_frame_split_by_match_pair_ocr/test/105/105_pair_4_early.jpg'), ('./data/maksed_frame_split_by_match_pair_ocr/test/105/105_pair_1_mid.jpg', './data/maksed_frame_split_by_match_pair_ocr/test/105/105_pair_2_mid.jpg', './data/maksed_frame_split_by_match_pair_ocr/test/105/105_pair_3_mid.jpg', './data/maksed_frame_split_by_match_pair_ocr/test/105/105_pair_4_mid.jpg'), ('./data/maksed_frame_split_by_match_pair_ocr/test/105/105_pair_1_late.jpg', './data/maksed_frame_split_by_match_pair_ocr/test/105/105_pair_2_late.jpg', './data/maksed_frame_split_by_match_pair_ocr/test/105/105_pair_3_late.jpg', './data/maksed_frame_split_by_match_pair_ocr/test/105/105_pair_4_late.jpg')]\n",
      "3. [('./data/maksed_frame_split_by_match_pair_ocr/test/105/105_pair_5_early.jpg', './data/maksed_frame_split_by_match_pair_ocr/test/105/105_pair_6_early.jpg', './data/maksed_frame_split_by_match_pair_ocr/test/105/105_pair_7_early.jpg', './data/maksed_frame_split_by_match_pair_ocr/test/105/105_pair_8_early.jpg'), ('./data/maksed_frame_split_by_match_pair_ocr/test/105/105_pair_5_mid.jpg', './data/maksed_frame_split_by_match_pair_ocr/test/105/105_pair_6_mid.jpg', './data/maksed_frame_split_by_match_pair_ocr/test/105/105_pair_7_mid.jpg', './data/maksed_frame_split_by_match_pair_ocr/test/105/105_pair_8_mid.jpg'), ('./data/maksed_frame_split_by_match_pair_ocr/test/105/105_pair_5_late.jpg', './data/maksed_frame_split_by_match_pair_ocr/test/105/105_pair_6_late.jpg', './data/maksed_frame_split_by_match_pair_ocr/test/105/105_pair_7_late.jpg', './data/maksed_frame_split_by_match_pair_ocr/test/105/105_pair_8_late.jpg')]\n",
      "4. [('./data/maksed_frame_split_by_match_pair_ocr/test/105/105_pair_13_early.jpg', './data/maksed_frame_split_by_match_pair_ocr/test/105/105_pair_14_early.jpg', './data/maksed_frame_split_by_match_pair_ocr/test/105/105_pair_15_early.jpg', './data/maksed_frame_split_by_match_pair_ocr/test/105/105_pair_16_early.jpg'), ('./data/maksed_frame_split_by_match_pair_ocr/test/105/105_pair_13_mid.jpg', './data/maksed_frame_split_by_match_pair_ocr/test/105/105_pair_14_mid.jpg', './data/maksed_frame_split_by_match_pair_ocr/test/105/105_pair_15_mid.jpg', './data/maksed_frame_split_by_match_pair_ocr/test/105/105_pair_16_mid.jpg'), ('./data/maksed_frame_split_by_match_pair_ocr/test/105/105_pair_13_late.jpg', './data/maksed_frame_split_by_match_pair_ocr/test/105/105_pair_14_late.jpg', './data/maksed_frame_split_by_match_pair_ocr/test/105/105_pair_15_late.jpg', './data/maksed_frame_split_by_match_pair_ocr/test/105/105_pair_16_late.jpg')]\n",
      "5. [('./data/maksed_frame_split_by_match_pair_ocr/test/105/105_pair_13_early.jpg', './data/maksed_frame_split_by_match_pair_ocr/test/105/105_pair_14_early.jpg', './data/maksed_frame_split_by_match_pair_ocr/test/105/105_pair_15_early.jpg', './data/maksed_frame_split_by_match_pair_ocr/test/105/105_pair_16_early.jpg'), ('./data/maksed_frame_split_by_match_pair_ocr/test/105/105_pair_13_mid.jpg', './data/maksed_frame_split_by_match_pair_ocr/test/105/105_pair_14_mid.jpg', './data/maksed_frame_split_by_match_pair_ocr/test/105/105_pair_15_mid.jpg', './data/maksed_frame_split_by_match_pair_ocr/test/105/105_pair_16_mid.jpg'), ('./data/maksed_frame_split_by_match_pair_ocr/test/105/105_pair_13_late.jpg', './data/maksed_frame_split_by_match_pair_ocr/test/105/105_pair_14_late.jpg', './data/maksed_frame_split_by_match_pair_ocr/test/105/105_pair_15_late.jpg', './data/maksed_frame_split_by_match_pair_ocr/test/105/105_pair_16_late.jpg')]\n",
      "6. [('./data/maksed_frame_split_by_match_pair_ocr/test/18/18_pair_1_early.jpg', './data/maksed_frame_split_by_match_pair_ocr/test/18/18_pair_2_early.jpg', './data/maksed_frame_split_by_match_pair_ocr/test/18/18_pair_3_early.jpg', './data/maksed_frame_split_by_match_pair_ocr/test/18/18_pair_4_early.jpg'), ('./data/maksed_frame_split_by_match_pair_ocr/test/18/18_pair_1_mid.jpg', './data/maksed_frame_split_by_match_pair_ocr/test/18/18_pair_2_mid.jpg', './data/maksed_frame_split_by_match_pair_ocr/test/18/18_pair_3_mid.jpg', './data/maksed_frame_split_by_match_pair_ocr/test/18/18_pair_4_mid.jpg'), ('./data/maksed_frame_split_by_match_pair_ocr/test/18/18_pair_1_late.jpg', './data/maksed_frame_split_by_match_pair_ocr/test/18/18_pair_2_late.jpg', './data/maksed_frame_split_by_match_pair_ocr/test/18/18_pair_3_late.jpg', './data/maksed_frame_split_by_match_pair_ocr/test/18/18_pair_4_late.jpg')]\n",
      "7. [('./data/maksed_frame_split_by_match_pair_ocr/test/18/18_pair_1_early.jpg', './data/maksed_frame_split_by_match_pair_ocr/test/18/18_pair_2_early.jpg', './data/maksed_frame_split_by_match_pair_ocr/test/18/18_pair_3_early.jpg', './data/maksed_frame_split_by_match_pair_ocr/test/18/18_pair_4_early.jpg'), ('./data/maksed_frame_split_by_match_pair_ocr/test/18/18_pair_1_mid.jpg', './data/maksed_frame_split_by_match_pair_ocr/test/18/18_pair_2_mid.jpg', './data/maksed_frame_split_by_match_pair_ocr/test/18/18_pair_3_mid.jpg', './data/maksed_frame_split_by_match_pair_ocr/test/18/18_pair_4_mid.jpg'), ('./data/maksed_frame_split_by_match_pair_ocr/test/18/18_pair_1_late.jpg', './data/maksed_frame_split_by_match_pair_ocr/test/18/18_pair_2_late.jpg', './data/maksed_frame_split_by_match_pair_ocr/test/18/18_pair_3_late.jpg', './data/maksed_frame_split_by_match_pair_ocr/test/18/18_pair_4_late.jpg')]\n",
      "8. [('./data/maksed_frame_split_by_match_pair_ocr/test/18/18_pair_5_early.jpg', './data/maksed_frame_split_by_match_pair_ocr/test/18/18_pair_6_early.jpg', './data/maksed_frame_split_by_match_pair_ocr/test/18/18_pair_7_early.jpg', './data/maksed_frame_split_by_match_pair_ocr/test/18/18_pair_8_early.jpg'), ('./data/maksed_frame_split_by_match_pair_ocr/test/18/18_pair_5_mid.jpg', './data/maksed_frame_split_by_match_pair_ocr/test/18/18_pair_6_mid.jpg', './data/maksed_frame_split_by_match_pair_ocr/test/18/18_pair_7_mid.jpg', './data/maksed_frame_split_by_match_pair_ocr/test/18/18_pair_8_mid.jpg'), ('./data/maksed_frame_split_by_match_pair_ocr/test/18/18_pair_5_late.jpg', './data/maksed_frame_split_by_match_pair_ocr/test/18/18_pair_6_late.jpg', './data/maksed_frame_split_by_match_pair_ocr/test/18/18_pair_7_late.jpg', './data/maksed_frame_split_by_match_pair_ocr/test/18/18_pair_8_late.jpg')]\n",
      "9. [('./data/maksed_frame_split_by_match_pair_ocr/test/18/18_pair_9_early.jpg', './data/maksed_frame_split_by_match_pair_ocr/test/18/18_pair_10_early.jpg', './data/maksed_frame_split_by_match_pair_ocr/test/18/18_pair_11_early.jpg', './data/maksed_frame_split_by_match_pair_ocr/test/18/18_pair_12_early.jpg'), ('./data/maksed_frame_split_by_match_pair_ocr/test/18/18_pair_9_mid.jpg', './data/maksed_frame_split_by_match_pair_ocr/test/18/18_pair_10_mid.jpg', './data/maksed_frame_split_by_match_pair_ocr/test/18/18_pair_11_mid.jpg', './data/maksed_frame_split_by_match_pair_ocr/test/18/18_pair_12_mid.jpg'), ('./data/maksed_frame_split_by_match_pair_ocr/test/18/18_pair_9_late.jpg', './data/maksed_frame_split_by_match_pair_ocr/test/18/18_pair_10_late.jpg', './data/maksed_frame_split_by_match_pair_ocr/test/18/18_pair_11_late.jpg', './data/maksed_frame_split_by_match_pair_ocr/test/18/18_pair_12_late.jpg')]\n",
      "10. [('./data/maksed_frame_split_by_match_pair_ocr/test/18/18_pair_13_early.jpg', './data/maksed_frame_split_by_match_pair_ocr/test/18/18_pair_14_early.jpg', './data/maksed_frame_split_by_match_pair_ocr/test/18/18_pair_15_early.jpg', './data/maksed_frame_split_by_match_pair_ocr/test/18/18_pair_16_early.jpg'), ('./data/maksed_frame_split_by_match_pair_ocr/test/18/18_pair_13_mid.jpg', './data/maksed_frame_split_by_match_pair_ocr/test/18/18_pair_14_mid.jpg', './data/maksed_frame_split_by_match_pair_ocr/test/18/18_pair_15_mid.jpg', './data/maksed_frame_split_by_match_pair_ocr/test/18/18_pair_16_mid.jpg'), ('./data/maksed_frame_split_by_match_pair_ocr/test/18/18_pair_13_late.jpg', './data/maksed_frame_split_by_match_pair_ocr/test/18/18_pair_14_late.jpg', './data/maksed_frame_split_by_match_pair_ocr/test/18/18_pair_15_late.jpg', './data/maksed_frame_split_by_match_pair_ocr/test/18/18_pair_16_late.jpg')]\n",
      "11. [('./data/maksed_frame_split_by_match_pair_ocr/test/18/18_pair_13_early.jpg', './data/maksed_frame_split_by_match_pair_ocr/test/18/18_pair_14_early.jpg', './data/maksed_frame_split_by_match_pair_ocr/test/18/18_pair_15_early.jpg', './data/maksed_frame_split_by_match_pair_ocr/test/18/18_pair_16_early.jpg'), ('./data/maksed_frame_split_by_match_pair_ocr/test/18/18_pair_13_mid.jpg', './data/maksed_frame_split_by_match_pair_ocr/test/18/18_pair_14_mid.jpg', './data/maksed_frame_split_by_match_pair_ocr/test/18/18_pair_15_mid.jpg', './data/maksed_frame_split_by_match_pair_ocr/test/18/18_pair_16_mid.jpg'), ('./data/maksed_frame_split_by_match_pair_ocr/test/18/18_pair_13_late.jpg', './data/maksed_frame_split_by_match_pair_ocr/test/18/18_pair_14_late.jpg', './data/maksed_frame_split_by_match_pair_ocr/test/18/18_pair_15_late.jpg', './data/maksed_frame_split_by_match_pair_ocr/test/18/18_pair_16_late.jpg')]\n",
      "12. [('./data/maksed_frame_split_by_match_pair_ocr/test/34/34_pair_4_early.jpg', './data/maksed_frame_split_by_match_pair_ocr/test/34/34_pair_5_early.jpg', './data/maksed_frame_split_by_match_pair_ocr/test/34/34_pair_6_early.jpg', './data/maksed_frame_split_by_match_pair_ocr/test/34/34_pair_7_early.jpg'), ('./data/maksed_frame_split_by_match_pair_ocr/test/34/34_pair_4_mid.jpg', './data/maksed_frame_split_by_match_pair_ocr/test/34/34_pair_5_mid.jpg', './data/maksed_frame_split_by_match_pair_ocr/test/34/34_pair_6_mid.jpg', './data/maksed_frame_split_by_match_pair_ocr/test/34/34_pair_7_mid.jpg'), ('./data/maksed_frame_split_by_match_pair_ocr/test/34/34_pair_4_late.jpg', './data/maksed_frame_split_by_match_pair_ocr/test/34/34_pair_5_late.jpg', './data/maksed_frame_split_by_match_pair_ocr/test/34/34_pair_6_late.jpg', './data/maksed_frame_split_by_match_pair_ocr/test/34/34_pair_7_late.jpg')]\n",
      "13. [('./data/maksed_frame_split_by_match_pair_ocr/test/34/34_pair_4_early.jpg', './data/maksed_frame_split_by_match_pair_ocr/test/34/34_pair_5_early.jpg', './data/maksed_frame_split_by_match_pair_ocr/test/34/34_pair_6_early.jpg', './data/maksed_frame_split_by_match_pair_ocr/test/34/34_pair_7_early.jpg'), ('./data/maksed_frame_split_by_match_pair_ocr/test/34/34_pair_4_mid.jpg', './data/maksed_frame_split_by_match_pair_ocr/test/34/34_pair_5_mid.jpg', './data/maksed_frame_split_by_match_pair_ocr/test/34/34_pair_6_mid.jpg', './data/maksed_frame_split_by_match_pair_ocr/test/34/34_pair_7_mid.jpg'), ('./data/maksed_frame_split_by_match_pair_ocr/test/34/34_pair_4_late.jpg', './data/maksed_frame_split_by_match_pair_ocr/test/34/34_pair_5_late.jpg', './data/maksed_frame_split_by_match_pair_ocr/test/34/34_pair_6_late.jpg', './data/maksed_frame_split_by_match_pair_ocr/test/34/34_pair_7_late.jpg')]\n",
      "14. [('./data/maksed_frame_split_by_match_pair_ocr/test/34/34_pair_8_early.jpg', './data/maksed_frame_split_by_match_pair_ocr/test/34/34_pair_9_early.jpg', './data/maksed_frame_split_by_match_pair_ocr/test/34/34_pair_10_early.jpg', './data/maksed_frame_split_by_match_pair_ocr/test/34/34_pair_11_early.jpg'), ('./data/maksed_frame_split_by_match_pair_ocr/test/34/34_pair_8_mid.jpg', './data/maksed_frame_split_by_match_pair_ocr/test/34/34_pair_9_mid.jpg', './data/maksed_frame_split_by_match_pair_ocr/test/34/34_pair_10_mid.jpg', './data/maksed_frame_split_by_match_pair_ocr/test/34/34_pair_11_mid.jpg'), ('./data/maksed_frame_split_by_match_pair_ocr/test/34/34_pair_8_late.jpg', './data/maksed_frame_split_by_match_pair_ocr/test/34/34_pair_9_late.jpg', './data/maksed_frame_split_by_match_pair_ocr/test/34/34_pair_10_late.jpg', './data/maksed_frame_split_by_match_pair_ocr/test/34/34_pair_11_late.jpg')]\n",
      "15. [('./data/maksed_frame_split_by_match_pair_ocr/test/35/35_pair_2_early.jpg', './data/maksed_frame_split_by_match_pair_ocr/test/35/35_pair_3_early.jpg', './data/maksed_frame_split_by_match_pair_ocr/test/35/35_pair_4_early.jpg', './data/maksed_frame_split_by_match_pair_ocr/test/35/35_pair_5_early.jpg'), ('./data/maksed_frame_split_by_match_pair_ocr/test/35/35_pair_2_mid.jpg', './data/maksed_frame_split_by_match_pair_ocr/test/35/35_pair_3_mid.jpg', './data/maksed_frame_split_by_match_pair_ocr/test/35/35_pair_4_mid.jpg', './data/maksed_frame_split_by_match_pair_ocr/test/35/35_pair_5_mid.jpg'), ('./data/maksed_frame_split_by_match_pair_ocr/test/35/35_pair_2_late.jpg', './data/maksed_frame_split_by_match_pair_ocr/test/35/35_pair_3_late.jpg', './data/maksed_frame_split_by_match_pair_ocr/test/35/35_pair_4_late.jpg', './data/maksed_frame_split_by_match_pair_ocr/test/35/35_pair_5_late.jpg')]\n",
      "16. [('./data/maksed_frame_split_by_match_pair_ocr/test/35/35_pair_14_early.jpg', './data/maksed_frame_split_by_match_pair_ocr/test/35/35_pair_15_early.jpg', './data/maksed_frame_split_by_match_pair_ocr/test/35/35_pair_16_early.jpg', './data/maksed_frame_split_by_match_pair_ocr/test/35/35_pair_17_early.jpg'), ('./data/maksed_frame_split_by_match_pair_ocr/test/35/35_pair_14_mid.jpg', './data/maksed_frame_split_by_match_pair_ocr/test/35/35_pair_15_mid.jpg', './data/maksed_frame_split_by_match_pair_ocr/test/35/35_pair_16_mid.jpg', './data/maksed_frame_split_by_match_pair_ocr/test/35/35_pair_17_mid.jpg'), ('./data/maksed_frame_split_by_match_pair_ocr/test/35/35_pair_14_late.jpg', './data/maksed_frame_split_by_match_pair_ocr/test/35/35_pair_15_late.jpg', './data/maksed_frame_split_by_match_pair_ocr/test/35/35_pair_16_late.jpg', './data/maksed_frame_split_by_match_pair_ocr/test/35/35_pair_17_late.jpg')]\n",
      "17. [('./data/maksed_frame_split_by_match_pair_ocr/test/39/39_pair_3_early.jpg', './data/maksed_frame_split_by_match_pair_ocr/test/39/39_pair_4_early.jpg', './data/maksed_frame_split_by_match_pair_ocr/test/39/39_pair_5_early.jpg', './data/maksed_frame_split_by_match_pair_ocr/test/39/39_pair_6_early.jpg'), ('./data/maksed_frame_split_by_match_pair_ocr/test/39/39_pair_3_mid.jpg', './data/maksed_frame_split_by_match_pair_ocr/test/39/39_pair_4_mid.jpg', './data/maksed_frame_split_by_match_pair_ocr/test/39/39_pair_5_mid.jpg', './data/maksed_frame_split_by_match_pair_ocr/test/39/39_pair_6_mid.jpg'), ('./data/maksed_frame_split_by_match_pair_ocr/test/39/39_pair_3_late.jpg', './data/maksed_frame_split_by_match_pair_ocr/test/39/39_pair_4_late.jpg', './data/maksed_frame_split_by_match_pair_ocr/test/39/39_pair_5_late.jpg', './data/maksed_frame_split_by_match_pair_ocr/test/39/39_pair_6_late.jpg')]\n",
      "18. [('./data/maksed_frame_split_by_match_pair_ocr/test/39/39_pair_3_early.jpg', './data/maksed_frame_split_by_match_pair_ocr/test/39/39_pair_4_early.jpg', './data/maksed_frame_split_by_match_pair_ocr/test/39/39_pair_5_early.jpg', './data/maksed_frame_split_by_match_pair_ocr/test/39/39_pair_6_early.jpg'), ('./data/maksed_frame_split_by_match_pair_ocr/test/39/39_pair_3_mid.jpg', './data/maksed_frame_split_by_match_pair_ocr/test/39/39_pair_4_mid.jpg', './data/maksed_frame_split_by_match_pair_ocr/test/39/39_pair_5_mid.jpg', './data/maksed_frame_split_by_match_pair_ocr/test/39/39_pair_6_mid.jpg'), ('./data/maksed_frame_split_by_match_pair_ocr/test/39/39_pair_3_late.jpg', './data/maksed_frame_split_by_match_pair_ocr/test/39/39_pair_4_late.jpg', './data/maksed_frame_split_by_match_pair_ocr/test/39/39_pair_5_late.jpg', './data/maksed_frame_split_by_match_pair_ocr/test/39/39_pair_6_late.jpg')]\n",
      "19. [('./data/maksed_frame_split_by_match_pair_ocr/test/39/39_pair_3_early.jpg', './data/maksed_frame_split_by_match_pair_ocr/test/39/39_pair_4_early.jpg', './data/maksed_frame_split_by_match_pair_ocr/test/39/39_pair_5_early.jpg', './data/maksed_frame_split_by_match_pair_ocr/test/39/39_pair_6_early.jpg'), ('./data/maksed_frame_split_by_match_pair_ocr/test/39/39_pair_3_mid.jpg', './data/maksed_frame_split_by_match_pair_ocr/test/39/39_pair_4_mid.jpg', './data/maksed_frame_split_by_match_pair_ocr/test/39/39_pair_5_mid.jpg', './data/maksed_frame_split_by_match_pair_ocr/test/39/39_pair_6_mid.jpg'), ('./data/maksed_frame_split_by_match_pair_ocr/test/39/39_pair_3_late.jpg', './data/maksed_frame_split_by_match_pair_ocr/test/39/39_pair_4_late.jpg', './data/maksed_frame_split_by_match_pair_ocr/test/39/39_pair_5_late.jpg', './data/maksed_frame_split_by_match_pair_ocr/test/39/39_pair_6_late.jpg')]\n",
      "20. [('./data/maksed_frame_split_by_match_pair_ocr/test/39/39_pair_7_early.jpg', './data/maksed_frame_split_by_match_pair_ocr/test/39/39_pair_8_early.jpg', './data/maksed_frame_split_by_match_pair_ocr/test/39/39_pair_9_early.jpg', './data/maksed_frame_split_by_match_pair_ocr/test/39/39_pair_10_early.jpg'), ('./data/maksed_frame_split_by_match_pair_ocr/test/39/39_pair_7_mid.jpg', './data/maksed_frame_split_by_match_pair_ocr/test/39/39_pair_8_mid.jpg', './data/maksed_frame_split_by_match_pair_ocr/test/39/39_pair_9_mid.jpg', './data/maksed_frame_split_by_match_pair_ocr/test/39/39_pair_10_mid.jpg'), ('./data/maksed_frame_split_by_match_pair_ocr/test/39/39_pair_7_late.jpg', './data/maksed_frame_split_by_match_pair_ocr/test/39/39_pair_8_late.jpg', './data/maksed_frame_split_by_match_pair_ocr/test/39/39_pair_9_late.jpg', './data/maksed_frame_split_by_match_pair_ocr/test/39/39_pair_10_late.jpg')]\n",
      "21. [('./data/maksed_frame_split_by_match_pair_ocr/test/39/39_pair_7_early.jpg', './data/maksed_frame_split_by_match_pair_ocr/test/39/39_pair_8_early.jpg', './data/maksed_frame_split_by_match_pair_ocr/test/39/39_pair_9_early.jpg', './data/maksed_frame_split_by_match_pair_ocr/test/39/39_pair_10_early.jpg'), ('./data/maksed_frame_split_by_match_pair_ocr/test/39/39_pair_7_mid.jpg', './data/maksed_frame_split_by_match_pair_ocr/test/39/39_pair_8_mid.jpg', './data/maksed_frame_split_by_match_pair_ocr/test/39/39_pair_9_mid.jpg', './data/maksed_frame_split_by_match_pair_ocr/test/39/39_pair_10_mid.jpg'), ('./data/maksed_frame_split_by_match_pair_ocr/test/39/39_pair_7_late.jpg', './data/maksed_frame_split_by_match_pair_ocr/test/39/39_pair_8_late.jpg', './data/maksed_frame_split_by_match_pair_ocr/test/39/39_pair_9_late.jpg', './data/maksed_frame_split_by_match_pair_ocr/test/39/39_pair_10_late.jpg')]\n",
      "22. [('./data/maksed_frame_split_by_match_pair_ocr/test/39/39_pair_7_early.jpg', './data/maksed_frame_split_by_match_pair_ocr/test/39/39_pair_8_early.jpg', './data/maksed_frame_split_by_match_pair_ocr/test/39/39_pair_9_early.jpg', './data/maksed_frame_split_by_match_pair_ocr/test/39/39_pair_10_early.jpg'), ('./data/maksed_frame_split_by_match_pair_ocr/test/39/39_pair_7_mid.jpg', './data/maksed_frame_split_by_match_pair_ocr/test/39/39_pair_8_mid.jpg', './data/maksed_frame_split_by_match_pair_ocr/test/39/39_pair_9_mid.jpg', './data/maksed_frame_split_by_match_pair_ocr/test/39/39_pair_10_mid.jpg'), ('./data/maksed_frame_split_by_match_pair_ocr/test/39/39_pair_7_late.jpg', './data/maksed_frame_split_by_match_pair_ocr/test/39/39_pair_8_late.jpg', './data/maksed_frame_split_by_match_pair_ocr/test/39/39_pair_9_late.jpg', './data/maksed_frame_split_by_match_pair_ocr/test/39/39_pair_10_late.jpg')]\n",
      "23. [('./data/maksed_frame_split_by_match_pair_ocr/test/39/39_pair_7_early.jpg', './data/maksed_frame_split_by_match_pair_ocr/test/39/39_pair_8_early.jpg', './data/maksed_frame_split_by_match_pair_ocr/test/39/39_pair_9_early.jpg', './data/maksed_frame_split_by_match_pair_ocr/test/39/39_pair_10_early.jpg'), ('./data/maksed_frame_split_by_match_pair_ocr/test/39/39_pair_7_mid.jpg', './data/maksed_frame_split_by_match_pair_ocr/test/39/39_pair_8_mid.jpg', './data/maksed_frame_split_by_match_pair_ocr/test/39/39_pair_9_mid.jpg', './data/maksed_frame_split_by_match_pair_ocr/test/39/39_pair_10_mid.jpg'), ('./data/maksed_frame_split_by_match_pair_ocr/test/39/39_pair_7_late.jpg', './data/maksed_frame_split_by_match_pair_ocr/test/39/39_pair_8_late.jpg', './data/maksed_frame_split_by_match_pair_ocr/test/39/39_pair_9_late.jpg', './data/maksed_frame_split_by_match_pair_ocr/test/39/39_pair_10_late.jpg')]\n",
      "24. [('./data/maksed_frame_split_by_match_pair_ocr/test/39/39_pair_11_early.jpg', './data/maksed_frame_split_by_match_pair_ocr/test/39/39_pair_12_early.jpg', './data/maksed_frame_split_by_match_pair_ocr/test/39/39_pair_13_early.jpg', './data/maksed_frame_split_by_match_pair_ocr/test/39/39_pair_14_early.jpg'), ('./data/maksed_frame_split_by_match_pair_ocr/test/39/39_pair_11_mid.jpg', './data/maksed_frame_split_by_match_pair_ocr/test/39/39_pair_12_mid.jpg', './data/maksed_frame_split_by_match_pair_ocr/test/39/39_pair_13_mid.jpg', './data/maksed_frame_split_by_match_pair_ocr/test/39/39_pair_14_mid.jpg'), ('./data/maksed_frame_split_by_match_pair_ocr/test/39/39_pair_11_late.jpg', './data/maksed_frame_split_by_match_pair_ocr/test/39/39_pair_12_late.jpg', './data/maksed_frame_split_by_match_pair_ocr/test/39/39_pair_13_late.jpg', './data/maksed_frame_split_by_match_pair_ocr/test/39/39_pair_14_late.jpg')]\n",
      "25. [('./data/maksed_frame_split_by_match_pair_ocr/test/39/39_pair_11_early.jpg', './data/maksed_frame_split_by_match_pair_ocr/test/39/39_pair_12_early.jpg', './data/maksed_frame_split_by_match_pair_ocr/test/39/39_pair_13_early.jpg', './data/maksed_frame_split_by_match_pair_ocr/test/39/39_pair_14_early.jpg'), ('./data/maksed_frame_split_by_match_pair_ocr/test/39/39_pair_11_mid.jpg', './data/maksed_frame_split_by_match_pair_ocr/test/39/39_pair_12_mid.jpg', './data/maksed_frame_split_by_match_pair_ocr/test/39/39_pair_13_mid.jpg', './data/maksed_frame_split_by_match_pair_ocr/test/39/39_pair_14_mid.jpg'), ('./data/maksed_frame_split_by_match_pair_ocr/test/39/39_pair_11_late.jpg', './data/maksed_frame_split_by_match_pair_ocr/test/39/39_pair_12_late.jpg', './data/maksed_frame_split_by_match_pair_ocr/test/39/39_pair_13_late.jpg', './data/maksed_frame_split_by_match_pair_ocr/test/39/39_pair_14_late.jpg')]\n",
      "26. [('./data/maksed_frame_split_by_match_pair_ocr/test/39/39_pair_15_early.jpg', './data/maksed_frame_split_by_match_pair_ocr/test/39/39_pair_16_early.jpg', './data/maksed_frame_split_by_match_pair_ocr/test/39/39_pair_17_early.jpg', './data/maksed_frame_split_by_match_pair_ocr/test/39/39_pair_18_early.jpg'), ('./data/maksed_frame_split_by_match_pair_ocr/test/39/39_pair_15_mid.jpg', './data/maksed_frame_split_by_match_pair_ocr/test/39/39_pair_16_mid.jpg', './data/maksed_frame_split_by_match_pair_ocr/test/39/39_pair_17_mid.jpg', './data/maksed_frame_split_by_match_pair_ocr/test/39/39_pair_18_mid.jpg'), ('./data/maksed_frame_split_by_match_pair_ocr/test/39/39_pair_15_late.jpg', './data/maksed_frame_split_by_match_pair_ocr/test/39/39_pair_16_late.jpg', './data/maksed_frame_split_by_match_pair_ocr/test/39/39_pair_17_late.jpg', './data/maksed_frame_split_by_match_pair_ocr/test/39/39_pair_18_late.jpg')]\n",
      "27. [('./data/maksed_frame_split_by_match_pair_ocr/test/39/39_pair_15_early.jpg', './data/maksed_frame_split_by_match_pair_ocr/test/39/39_pair_16_early.jpg', './data/maksed_frame_split_by_match_pair_ocr/test/39/39_pair_17_early.jpg', './data/maksed_frame_split_by_match_pair_ocr/test/39/39_pair_18_early.jpg'), ('./data/maksed_frame_split_by_match_pair_ocr/test/39/39_pair_15_mid.jpg', './data/maksed_frame_split_by_match_pair_ocr/test/39/39_pair_16_mid.jpg', './data/maksed_frame_split_by_match_pair_ocr/test/39/39_pair_17_mid.jpg', './data/maksed_frame_split_by_match_pair_ocr/test/39/39_pair_18_mid.jpg'), ('./data/maksed_frame_split_by_match_pair_ocr/test/39/39_pair_15_late.jpg', './data/maksed_frame_split_by_match_pair_ocr/test/39/39_pair_16_late.jpg', './data/maksed_frame_split_by_match_pair_ocr/test/39/39_pair_17_late.jpg', './data/maksed_frame_split_by_match_pair_ocr/test/39/39_pair_18_late.jpg')]\n",
      "28. [('./data/maksed_frame_split_by_match_pair_ocr/test/42/42_pair_5_early.jpg', './data/maksed_frame_split_by_match_pair_ocr/test/42/42_pair_6_early.jpg', './data/maksed_frame_split_by_match_pair_ocr/test/42/42_pair_7_early.jpg', './data/maksed_frame_split_by_match_pair_ocr/test/42/42_pair_8_early.jpg'), ('./data/maksed_frame_split_by_match_pair_ocr/test/42/42_pair_5_mid.jpg', './data/maksed_frame_split_by_match_pair_ocr/test/42/42_pair_6_mid.jpg', './data/maksed_frame_split_by_match_pair_ocr/test/42/42_pair_7_mid.jpg', './data/maksed_frame_split_by_match_pair_ocr/test/42/42_pair_8_mid.jpg'), ('./data/maksed_frame_split_by_match_pair_ocr/test/42/42_pair_5_late.jpg', './data/maksed_frame_split_by_match_pair_ocr/test/42/42_pair_6_late.jpg', './data/maksed_frame_split_by_match_pair_ocr/test/42/42_pair_7_late.jpg', './data/maksed_frame_split_by_match_pair_ocr/test/42/42_pair_8_late.jpg')]\n",
      "29. [('./data/maksed_frame_split_by_match_pair_ocr/test/42/42_pair_13_early.jpg', './data/maksed_frame_split_by_match_pair_ocr/test/42/42_pair_14_early.jpg', './data/maksed_frame_split_by_match_pair_ocr/test/42/42_pair_15_early.jpg', './data/maksed_frame_split_by_match_pair_ocr/test/42/42_pair_16_early.jpg'), ('./data/maksed_frame_split_by_match_pair_ocr/test/42/42_pair_13_mid.jpg', './data/maksed_frame_split_by_match_pair_ocr/test/42/42_pair_14_mid.jpg', './data/maksed_frame_split_by_match_pair_ocr/test/42/42_pair_15_mid.jpg', './data/maksed_frame_split_by_match_pair_ocr/test/42/42_pair_16_mid.jpg'), ('./data/maksed_frame_split_by_match_pair_ocr/test/42/42_pair_13_late.jpg', './data/maksed_frame_split_by_match_pair_ocr/test/42/42_pair_14_late.jpg', './data/maksed_frame_split_by_match_pair_ocr/test/42/42_pair_15_late.jpg', './data/maksed_frame_split_by_match_pair_ocr/test/42/42_pair_16_late.jpg')]\n",
      "30. [('./data/maksed_frame_split_by_match_pair_ocr/test/48/48_pair_1_early.jpg', './data/maksed_frame_split_by_match_pair_ocr/test/48/48_pair_2_early.jpg', './data/maksed_frame_split_by_match_pair_ocr/test/48/48_pair_3_early.jpg', './data/maksed_frame_split_by_match_pair_ocr/test/48/48_pair_4_early.jpg'), ('./data/maksed_frame_split_by_match_pair_ocr/test/48/48_pair_1_mid.jpg', './data/maksed_frame_split_by_match_pair_ocr/test/48/48_pair_2_mid.jpg', './data/maksed_frame_split_by_match_pair_ocr/test/48/48_pair_3_mid.jpg', './data/maksed_frame_split_by_match_pair_ocr/test/48/48_pair_4_mid.jpg'), ('./data/maksed_frame_split_by_match_pair_ocr/test/48/48_pair_1_late.jpg', './data/maksed_frame_split_by_match_pair_ocr/test/48/48_pair_2_late.jpg', './data/maksed_frame_split_by_match_pair_ocr/test/48/48_pair_3_late.jpg', './data/maksed_frame_split_by_match_pair_ocr/test/48/48_pair_4_late.jpg')]\n",
      "31. [('./data/maksed_frame_split_by_match_pair_ocr/test/48/48_pair_1_early.jpg', './data/maksed_frame_split_by_match_pair_ocr/test/48/48_pair_2_early.jpg', './data/maksed_frame_split_by_match_pair_ocr/test/48/48_pair_3_early.jpg', './data/maksed_frame_split_by_match_pair_ocr/test/48/48_pair_4_early.jpg'), ('./data/maksed_frame_split_by_match_pair_ocr/test/48/48_pair_1_mid.jpg', './data/maksed_frame_split_by_match_pair_ocr/test/48/48_pair_2_mid.jpg', './data/maksed_frame_split_by_match_pair_ocr/test/48/48_pair_3_mid.jpg', './data/maksed_frame_split_by_match_pair_ocr/test/48/48_pair_4_mid.jpg'), ('./data/maksed_frame_split_by_match_pair_ocr/test/48/48_pair_1_late.jpg', './data/maksed_frame_split_by_match_pair_ocr/test/48/48_pair_2_late.jpg', './data/maksed_frame_split_by_match_pair_ocr/test/48/48_pair_3_late.jpg', './data/maksed_frame_split_by_match_pair_ocr/test/48/48_pair_4_late.jpg')]\n",
      "32. [('./data/maksed_frame_split_by_match_pair_ocr/test/48/48_pair_5_early.jpg', './data/maksed_frame_split_by_match_pair_ocr/test/48/48_pair_6_early.jpg', './data/maksed_frame_split_by_match_pair_ocr/test/48/48_pair_7_early.jpg', './data/maksed_frame_split_by_match_pair_ocr/test/48/48_pair_8_early.jpg'), ('./data/maksed_frame_split_by_match_pair_ocr/test/48/48_pair_5_mid.jpg', './data/maksed_frame_split_by_match_pair_ocr/test/48/48_pair_6_mid.jpg', './data/maksed_frame_split_by_match_pair_ocr/test/48/48_pair_7_mid.jpg', './data/maksed_frame_split_by_match_pair_ocr/test/48/48_pair_8_mid.jpg'), ('./data/maksed_frame_split_by_match_pair_ocr/test/48/48_pair_5_late.jpg', './data/maksed_frame_split_by_match_pair_ocr/test/48/48_pair_6_late.jpg', './data/maksed_frame_split_by_match_pair_ocr/test/48/48_pair_7_late.jpg', './data/maksed_frame_split_by_match_pair_ocr/test/48/48_pair_8_late.jpg')]\n",
      "33. [('./data/maksed_frame_split_by_match_pair_ocr/test/48/48_pair_5_early.jpg', './data/maksed_frame_split_by_match_pair_ocr/test/48/48_pair_6_early.jpg', './data/maksed_frame_split_by_match_pair_ocr/test/48/48_pair_7_early.jpg', './data/maksed_frame_split_by_match_pair_ocr/test/48/48_pair_8_early.jpg'), ('./data/maksed_frame_split_by_match_pair_ocr/test/48/48_pair_5_mid.jpg', './data/maksed_frame_split_by_match_pair_ocr/test/48/48_pair_6_mid.jpg', './data/maksed_frame_split_by_match_pair_ocr/test/48/48_pair_7_mid.jpg', './data/maksed_frame_split_by_match_pair_ocr/test/48/48_pair_8_mid.jpg'), ('./data/maksed_frame_split_by_match_pair_ocr/test/48/48_pair_5_late.jpg', './data/maksed_frame_split_by_match_pair_ocr/test/48/48_pair_6_late.jpg', './data/maksed_frame_split_by_match_pair_ocr/test/48/48_pair_7_late.jpg', './data/maksed_frame_split_by_match_pair_ocr/test/48/48_pair_8_late.jpg')]\n",
      "34. [('./data/maksed_frame_split_by_match_pair_ocr/test/48/48_pair_9_early.jpg', './data/maksed_frame_split_by_match_pair_ocr/test/48/48_pair_10_early.jpg', './data/maksed_frame_split_by_match_pair_ocr/test/48/48_pair_11_early.jpg', './data/maksed_frame_split_by_match_pair_ocr/test/48/48_pair_12_early.jpg'), ('./data/maksed_frame_split_by_match_pair_ocr/test/48/48_pair_9_mid.jpg', './data/maksed_frame_split_by_match_pair_ocr/test/48/48_pair_10_mid.jpg', './data/maksed_frame_split_by_match_pair_ocr/test/48/48_pair_11_mid.jpg', './data/maksed_frame_split_by_match_pair_ocr/test/48/48_pair_12_mid.jpg'), ('./data/maksed_frame_split_by_match_pair_ocr/test/48/48_pair_9_late.jpg', './data/maksed_frame_split_by_match_pair_ocr/test/48/48_pair_10_late.jpg', './data/maksed_frame_split_by_match_pair_ocr/test/48/48_pair_11_late.jpg', './data/maksed_frame_split_by_match_pair_ocr/test/48/48_pair_12_late.jpg')]\n",
      "35. [('./data/maksed_frame_split_by_match_pair_ocr/test/48/48_pair_9_early.jpg', './data/maksed_frame_split_by_match_pair_ocr/test/48/48_pair_10_early.jpg', './data/maksed_frame_split_by_match_pair_ocr/test/48/48_pair_11_early.jpg', './data/maksed_frame_split_by_match_pair_ocr/test/48/48_pair_12_early.jpg'), ('./data/maksed_frame_split_by_match_pair_ocr/test/48/48_pair_9_mid.jpg', './data/maksed_frame_split_by_match_pair_ocr/test/48/48_pair_10_mid.jpg', './data/maksed_frame_split_by_match_pair_ocr/test/48/48_pair_11_mid.jpg', './data/maksed_frame_split_by_match_pair_ocr/test/48/48_pair_12_mid.jpg'), ('./data/maksed_frame_split_by_match_pair_ocr/test/48/48_pair_9_late.jpg', './data/maksed_frame_split_by_match_pair_ocr/test/48/48_pair_10_late.jpg', './data/maksed_frame_split_by_match_pair_ocr/test/48/48_pair_11_late.jpg', './data/maksed_frame_split_by_match_pair_ocr/test/48/48_pair_12_late.jpg')]\n",
      "36. [('./data/maksed_frame_split_by_match_pair_ocr/test/48/48_pair_13_early.jpg', './data/maksed_frame_split_by_match_pair_ocr/test/48/48_pair_14_early.jpg', './data/maksed_frame_split_by_match_pair_ocr/test/48/48_pair_15_early.jpg', './data/maksed_frame_split_by_match_pair_ocr/test/48/48_pair_16_early.jpg'), ('./data/maksed_frame_split_by_match_pair_ocr/test/48/48_pair_13_mid.jpg', './data/maksed_frame_split_by_match_pair_ocr/test/48/48_pair_14_mid.jpg', './data/maksed_frame_split_by_match_pair_ocr/test/48/48_pair_15_mid.jpg', './data/maksed_frame_split_by_match_pair_ocr/test/48/48_pair_16_mid.jpg'), ('./data/maksed_frame_split_by_match_pair_ocr/test/48/48_pair_13_late.jpg', './data/maksed_frame_split_by_match_pair_ocr/test/48/48_pair_14_late.jpg', './data/maksed_frame_split_by_match_pair_ocr/test/48/48_pair_15_late.jpg', './data/maksed_frame_split_by_match_pair_ocr/test/48/48_pair_16_late.jpg')]\n",
      "37. [('./data/maksed_frame_split_by_match_pair_ocr/test/48/48_pair_17_early.jpg', './data/maksed_frame_split_by_match_pair_ocr/test/48/48_pair_18_early.jpg', './data/maksed_frame_split_by_match_pair_ocr/test/48/48_pair_19_early.jpg', './data/maksed_frame_split_by_match_pair_ocr/test/48/48_pair_20_early.jpg'), ('./data/maksed_frame_split_by_match_pair_ocr/test/48/48_pair_17_mid.jpg', './data/maksed_frame_split_by_match_pair_ocr/test/48/48_pair_18_mid.jpg', './data/maksed_frame_split_by_match_pair_ocr/test/48/48_pair_19_mid.jpg', './data/maksed_frame_split_by_match_pair_ocr/test/48/48_pair_20_mid.jpg'), ('./data/maksed_frame_split_by_match_pair_ocr/test/48/48_pair_17_late.jpg', './data/maksed_frame_split_by_match_pair_ocr/test/48/48_pair_18_late.jpg', './data/maksed_frame_split_by_match_pair_ocr/test/48/48_pair_19_late.jpg', './data/maksed_frame_split_by_match_pair_ocr/test/48/48_pair_20_late.jpg')]\n",
      "38. [('./data/maksed_frame_split_by_match_pair_ocr/test/48/48_pair_17_early.jpg', './data/maksed_frame_split_by_match_pair_ocr/test/48/48_pair_18_early.jpg', './data/maksed_frame_split_by_match_pair_ocr/test/48/48_pair_19_early.jpg', './data/maksed_frame_split_by_match_pair_ocr/test/48/48_pair_20_early.jpg'), ('./data/maksed_frame_split_by_match_pair_ocr/test/48/48_pair_17_mid.jpg', './data/maksed_frame_split_by_match_pair_ocr/test/48/48_pair_18_mid.jpg', './data/maksed_frame_split_by_match_pair_ocr/test/48/48_pair_19_mid.jpg', './data/maksed_frame_split_by_match_pair_ocr/test/48/48_pair_20_mid.jpg'), ('./data/maksed_frame_split_by_match_pair_ocr/test/48/48_pair_17_late.jpg', './data/maksed_frame_split_by_match_pair_ocr/test/48/48_pair_18_late.jpg', './data/maksed_frame_split_by_match_pair_ocr/test/48/48_pair_19_late.jpg', './data/maksed_frame_split_by_match_pair_ocr/test/48/48_pair_20_late.jpg')]\n",
      "39. [('./data/maksed_frame_split_by_match_pair_ocr/test/5/5_pair_17_early.jpg', './data/maksed_frame_split_by_match_pair_ocr/test/65/65_pair_1_early.jpg', './data/maksed_frame_split_by_match_pair_ocr/test/65/65_pair_2_early.jpg', './data/maksed_frame_split_by_match_pair_ocr/test/65/65_pair_3_early.jpg'), ('./data/maksed_frame_split_by_match_pair_ocr/test/5/5_pair_17_mid.jpg', './data/maksed_frame_split_by_match_pair_ocr/test/65/65_pair_1_mid.jpg', './data/maksed_frame_split_by_match_pair_ocr/test/65/65_pair_2_mid.jpg', './data/maksed_frame_split_by_match_pair_ocr/test/65/65_pair_3_mid.jpg'), ('./data/maksed_frame_split_by_match_pair_ocr/test/5/5_pair_17_late.jpg', './data/maksed_frame_split_by_match_pair_ocr/test/65/65_pair_1_late.jpg', './data/maksed_frame_split_by_match_pair_ocr/test/65/65_pair_2_late.jpg', './data/maksed_frame_split_by_match_pair_ocr/test/65/65_pair_3_late.jpg')]\n",
      "40. [('./data/maksed_frame_split_by_match_pair_ocr/test/9/9_pair_3_early.jpg', './data/maksed_frame_split_by_match_pair_ocr/test/9/9_pair_4_early.jpg', './data/maksed_frame_split_by_match_pair_ocr/test/9/9_pair_5_early.jpg', './data/maksed_frame_split_by_match_pair_ocr/test/9/9_pair_6_early.jpg'), ('./data/maksed_frame_split_by_match_pair_ocr/test/9/9_pair_3_mid.jpg', './data/maksed_frame_split_by_match_pair_ocr/test/9/9_pair_4_mid.jpg', './data/maksed_frame_split_by_match_pair_ocr/test/9/9_pair_5_mid.jpg', './data/maksed_frame_split_by_match_pair_ocr/test/9/9_pair_6_mid.jpg'), ('./data/maksed_frame_split_by_match_pair_ocr/test/9/9_pair_3_late.jpg', './data/maksed_frame_split_by_match_pair_ocr/test/9/9_pair_4_late.jpg', './data/maksed_frame_split_by_match_pair_ocr/test/9/9_pair_5_late.jpg', './data/maksed_frame_split_by_match_pair_ocr/test/9/9_pair_6_late.jpg')]\n",
      "41. [('./data/maksed_frame_split_by_match_pair_ocr/test/9/9_pair_11_early.jpg', './data/maksed_frame_split_by_match_pair_ocr/test/9/9_pair_12_early.jpg', './data/maksed_frame_split_by_match_pair_ocr/test/9/9_pair_13_early.jpg', './data/maksed_frame_split_by_match_pair_ocr/test/9/9_pair_14_early.jpg'), ('./data/maksed_frame_split_by_match_pair_ocr/test/9/9_pair_11_mid.jpg', './data/maksed_frame_split_by_match_pair_ocr/test/9/9_pair_12_mid.jpg', './data/maksed_frame_split_by_match_pair_ocr/test/9/9_pair_13_mid.jpg', './data/maksed_frame_split_by_match_pair_ocr/test/9/9_pair_14_mid.jpg'), ('./data/maksed_frame_split_by_match_pair_ocr/test/9/9_pair_11_late.jpg', './data/maksed_frame_split_by_match_pair_ocr/test/9/9_pair_12_late.jpg', './data/maksed_frame_split_by_match_pair_ocr/test/9/9_pair_13_late.jpg', './data/maksed_frame_split_by_match_pair_ocr/test/9/9_pair_14_late.jpg')]\n",
      "42. [('./data/maksed_frame_split_by_match_pair_ocr/test/9/9_pair_11_early.jpg', './data/maksed_frame_split_by_match_pair_ocr/test/9/9_pair_12_early.jpg', './data/maksed_frame_split_by_match_pair_ocr/test/9/9_pair_13_early.jpg', './data/maksed_frame_split_by_match_pair_ocr/test/9/9_pair_14_early.jpg'), ('./data/maksed_frame_split_by_match_pair_ocr/test/9/9_pair_11_mid.jpg', './data/maksed_frame_split_by_match_pair_ocr/test/9/9_pair_12_mid.jpg', './data/maksed_frame_split_by_match_pair_ocr/test/9/9_pair_13_mid.jpg', './data/maksed_frame_split_by_match_pair_ocr/test/9/9_pair_14_mid.jpg'), ('./data/maksed_frame_split_by_match_pair_ocr/test/9/9_pair_11_late.jpg', './data/maksed_frame_split_by_match_pair_ocr/test/9/9_pair_12_late.jpg', './data/maksed_frame_split_by_match_pair_ocr/test/9/9_pair_13_late.jpg', './data/maksed_frame_split_by_match_pair_ocr/test/9/9_pair_14_late.jpg')]\n",
      "43. [('./data/maksed_frame_split_by_match_pair_ocr/test/9/9_pair_15_early.jpg', './data/maksed_frame_split_by_match_pair_ocr/test/95/95_pair_1_early.jpg', './data/maksed_frame_split_by_match_pair_ocr/test/95/95_pair_2_early.jpg', './data/maksed_frame_split_by_match_pair_ocr/test/95/95_pair_3_early.jpg'), ('./data/maksed_frame_split_by_match_pair_ocr/test/9/9_pair_15_mid.jpg', './data/maksed_frame_split_by_match_pair_ocr/test/95/95_pair_1_mid.jpg', './data/maksed_frame_split_by_match_pair_ocr/test/95/95_pair_2_mid.jpg', './data/maksed_frame_split_by_match_pair_ocr/test/95/95_pair_3_mid.jpg'), ('./data/maksed_frame_split_by_match_pair_ocr/test/9/9_pair_15_late.jpg', './data/maksed_frame_split_by_match_pair_ocr/test/95/95_pair_1_late.jpg', './data/maksed_frame_split_by_match_pair_ocr/test/95/95_pair_2_late.jpg', './data/maksed_frame_split_by_match_pair_ocr/test/95/95_pair_3_late.jpg')]\n",
      "44. [('./data/maksed_frame_split_by_match_pair_ocr/test/9/9_pair_15_early.jpg', './data/maksed_frame_split_by_match_pair_ocr/test/95/95_pair_1_early.jpg', './data/maksed_frame_split_by_match_pair_ocr/test/95/95_pair_2_early.jpg', './data/maksed_frame_split_by_match_pair_ocr/test/95/95_pair_3_early.jpg'), ('./data/maksed_frame_split_by_match_pair_ocr/test/9/9_pair_15_mid.jpg', './data/maksed_frame_split_by_match_pair_ocr/test/95/95_pair_1_mid.jpg', './data/maksed_frame_split_by_match_pair_ocr/test/95/95_pair_2_mid.jpg', './data/maksed_frame_split_by_match_pair_ocr/test/95/95_pair_3_mid.jpg'), ('./data/maksed_frame_split_by_match_pair_ocr/test/9/9_pair_15_late.jpg', './data/maksed_frame_split_by_match_pair_ocr/test/95/95_pair_1_late.jpg', './data/maksed_frame_split_by_match_pair_ocr/test/95/95_pair_2_late.jpg', './data/maksed_frame_split_by_match_pair_ocr/test/95/95_pair_3_late.jpg')]\n",
      "45. [('./data/maksed_frame_split_by_match_pair_ocr/test/9/9_pair_15_early.jpg', './data/maksed_frame_split_by_match_pair_ocr/test/95/95_pair_1_early.jpg', './data/maksed_frame_split_by_match_pair_ocr/test/95/95_pair_2_early.jpg', './data/maksed_frame_split_by_match_pair_ocr/test/95/95_pair_3_early.jpg'), ('./data/maksed_frame_split_by_match_pair_ocr/test/9/9_pair_15_mid.jpg', './data/maksed_frame_split_by_match_pair_ocr/test/95/95_pair_1_mid.jpg', './data/maksed_frame_split_by_match_pair_ocr/test/95/95_pair_2_mid.jpg', './data/maksed_frame_split_by_match_pair_ocr/test/95/95_pair_3_mid.jpg'), ('./data/maksed_frame_split_by_match_pair_ocr/test/9/9_pair_15_late.jpg', './data/maksed_frame_split_by_match_pair_ocr/test/95/95_pair_1_late.jpg', './data/maksed_frame_split_by_match_pair_ocr/test/95/95_pair_2_late.jpg', './data/maksed_frame_split_by_match_pair_ocr/test/95/95_pair_3_late.jpg')]\n",
      "46. [('./data/maksed_frame_split_by_match_pair_ocr/test/9/9_pair_15_early.jpg', './data/maksed_frame_split_by_match_pair_ocr/test/95/95_pair_1_early.jpg', './data/maksed_frame_split_by_match_pair_ocr/test/95/95_pair_2_early.jpg', './data/maksed_frame_split_by_match_pair_ocr/test/95/95_pair_3_early.jpg'), ('./data/maksed_frame_split_by_match_pair_ocr/test/9/9_pair_15_mid.jpg', './data/maksed_frame_split_by_match_pair_ocr/test/95/95_pair_1_mid.jpg', './data/maksed_frame_split_by_match_pair_ocr/test/95/95_pair_2_mid.jpg', './data/maksed_frame_split_by_match_pair_ocr/test/95/95_pair_3_mid.jpg'), ('./data/maksed_frame_split_by_match_pair_ocr/test/9/9_pair_15_late.jpg', './data/maksed_frame_split_by_match_pair_ocr/test/95/95_pair_1_late.jpg', './data/maksed_frame_split_by_match_pair_ocr/test/95/95_pair_2_late.jpg', './data/maksed_frame_split_by_match_pair_ocr/test/95/95_pair_3_late.jpg')]\n",
      "47. [('./data/maksed_frame_split_by_match_pair_ocr/test/95/95_pair_4_early.jpg', './data/maksed_frame_split_by_match_pair_ocr/test/95/95_pair_5_early.jpg', './data/maksed_frame_split_by_match_pair_ocr/test/95/95_pair_6_early.jpg', './data/maksed_frame_split_by_match_pair_ocr/test/95/95_pair_7_early.jpg'), ('./data/maksed_frame_split_by_match_pair_ocr/test/95/95_pair_4_mid.jpg', './data/maksed_frame_split_by_match_pair_ocr/test/95/95_pair_5_mid.jpg', './data/maksed_frame_split_by_match_pair_ocr/test/95/95_pair_6_mid.jpg', './data/maksed_frame_split_by_match_pair_ocr/test/95/95_pair_7_mid.jpg'), ('./data/maksed_frame_split_by_match_pair_ocr/test/95/95_pair_4_late.jpg', './data/maksed_frame_split_by_match_pair_ocr/test/95/95_pair_5_late.jpg', './data/maksed_frame_split_by_match_pair_ocr/test/95/95_pair_6_late.jpg', './data/maksed_frame_split_by_match_pair_ocr/test/95/95_pair_7_late.jpg')]\n",
      "48. [('./data/maksed_frame_split_by_match_pair_ocr/test/95/95_pair_4_early.jpg', './data/maksed_frame_split_by_match_pair_ocr/test/95/95_pair_5_early.jpg', './data/maksed_frame_split_by_match_pair_ocr/test/95/95_pair_6_early.jpg', './data/maksed_frame_split_by_match_pair_ocr/test/95/95_pair_7_early.jpg'), ('./data/maksed_frame_split_by_match_pair_ocr/test/95/95_pair_4_mid.jpg', './data/maksed_frame_split_by_match_pair_ocr/test/95/95_pair_5_mid.jpg', './data/maksed_frame_split_by_match_pair_ocr/test/95/95_pair_6_mid.jpg', './data/maksed_frame_split_by_match_pair_ocr/test/95/95_pair_7_mid.jpg'), ('./data/maksed_frame_split_by_match_pair_ocr/test/95/95_pair_4_late.jpg', './data/maksed_frame_split_by_match_pair_ocr/test/95/95_pair_5_late.jpg', './data/maksed_frame_split_by_match_pair_ocr/test/95/95_pair_6_late.jpg', './data/maksed_frame_split_by_match_pair_ocr/test/95/95_pair_7_late.jpg')]\n",
      "49. [('./data/maksed_frame_split_by_match_pair_ocr/test/95/95_pair_4_early.jpg', './data/maksed_frame_split_by_match_pair_ocr/test/95/95_pair_5_early.jpg', './data/maksed_frame_split_by_match_pair_ocr/test/95/95_pair_6_early.jpg', './data/maksed_frame_split_by_match_pair_ocr/test/95/95_pair_7_early.jpg'), ('./data/maksed_frame_split_by_match_pair_ocr/test/95/95_pair_4_mid.jpg', './data/maksed_frame_split_by_match_pair_ocr/test/95/95_pair_5_mid.jpg', './data/maksed_frame_split_by_match_pair_ocr/test/95/95_pair_6_mid.jpg', './data/maksed_frame_split_by_match_pair_ocr/test/95/95_pair_7_mid.jpg'), ('./data/maksed_frame_split_by_match_pair_ocr/test/95/95_pair_4_late.jpg', './data/maksed_frame_split_by_match_pair_ocr/test/95/95_pair_5_late.jpg', './data/maksed_frame_split_by_match_pair_ocr/test/95/95_pair_6_late.jpg', './data/maksed_frame_split_by_match_pair_ocr/test/95/95_pair_7_late.jpg')]\n",
      "50. [('./data/maksed_frame_split_by_match_pair_ocr/test/95/95_pair_8_early.jpg', './data/maksed_frame_split_by_match_pair_ocr/test/95/95_pair_9_early.jpg', './data/maksed_frame_split_by_match_pair_ocr/test/95/95_pair_10_early.jpg', './data/maksed_frame_split_by_match_pair_ocr/test/95/95_pair_11_early.jpg'), ('./data/maksed_frame_split_by_match_pair_ocr/test/95/95_pair_8_mid.jpg', './data/maksed_frame_split_by_match_pair_ocr/test/95/95_pair_9_mid.jpg', './data/maksed_frame_split_by_match_pair_ocr/test/95/95_pair_10_mid.jpg', './data/maksed_frame_split_by_match_pair_ocr/test/95/95_pair_11_mid.jpg'), ('./data/maksed_frame_split_by_match_pair_ocr/test/95/95_pair_8_late.jpg', './data/maksed_frame_split_by_match_pair_ocr/test/95/95_pair_9_late.jpg', './data/maksed_frame_split_by_match_pair_ocr/test/95/95_pair_10_late.jpg', './data/maksed_frame_split_by_match_pair_ocr/test/95/95_pair_11_late.jpg')]\n",
      "51. [('./data/maksed_frame_split_by_match_pair_ocr/test/95/95_pair_8_early.jpg', './data/maksed_frame_split_by_match_pair_ocr/test/95/95_pair_9_early.jpg', './data/maksed_frame_split_by_match_pair_ocr/test/95/95_pair_10_early.jpg', './data/maksed_frame_split_by_match_pair_ocr/test/95/95_pair_11_early.jpg'), ('./data/maksed_frame_split_by_match_pair_ocr/test/95/95_pair_8_mid.jpg', './data/maksed_frame_split_by_match_pair_ocr/test/95/95_pair_9_mid.jpg', './data/maksed_frame_split_by_match_pair_ocr/test/95/95_pair_10_mid.jpg', './data/maksed_frame_split_by_match_pair_ocr/test/95/95_pair_11_mid.jpg'), ('./data/maksed_frame_split_by_match_pair_ocr/test/95/95_pair_8_late.jpg', './data/maksed_frame_split_by_match_pair_ocr/test/95/95_pair_9_late.jpg', './data/maksed_frame_split_by_match_pair_ocr/test/95/95_pair_10_late.jpg', './data/maksed_frame_split_by_match_pair_ocr/test/95/95_pair_11_late.jpg')]\n",
      "52. [('./data/maksed_frame_split_by_match_pair_ocr/test/95/95_pair_8_early.jpg', './data/maksed_frame_split_by_match_pair_ocr/test/95/95_pair_9_early.jpg', './data/maksed_frame_split_by_match_pair_ocr/test/95/95_pair_10_early.jpg', './data/maksed_frame_split_by_match_pair_ocr/test/95/95_pair_11_early.jpg'), ('./data/maksed_frame_split_by_match_pair_ocr/test/95/95_pair_8_mid.jpg', './data/maksed_frame_split_by_match_pair_ocr/test/95/95_pair_9_mid.jpg', './data/maksed_frame_split_by_match_pair_ocr/test/95/95_pair_10_mid.jpg', './data/maksed_frame_split_by_match_pair_ocr/test/95/95_pair_11_mid.jpg'), ('./data/maksed_frame_split_by_match_pair_ocr/test/95/95_pair_8_late.jpg', './data/maksed_frame_split_by_match_pair_ocr/test/95/95_pair_9_late.jpg', './data/maksed_frame_split_by_match_pair_ocr/test/95/95_pair_10_late.jpg', './data/maksed_frame_split_by_match_pair_ocr/test/95/95_pair_11_late.jpg')]\n",
      "53. [('./data/maksed_frame_split_by_match_pair_ocr/test/95/95_pair_8_early.jpg', './data/maksed_frame_split_by_match_pair_ocr/test/95/95_pair_9_early.jpg', './data/maksed_frame_split_by_match_pair_ocr/test/95/95_pair_10_early.jpg', './data/maksed_frame_split_by_match_pair_ocr/test/95/95_pair_11_early.jpg'), ('./data/maksed_frame_split_by_match_pair_ocr/test/95/95_pair_8_mid.jpg', './data/maksed_frame_split_by_match_pair_ocr/test/95/95_pair_9_mid.jpg', './data/maksed_frame_split_by_match_pair_ocr/test/95/95_pair_10_mid.jpg', './data/maksed_frame_split_by_match_pair_ocr/test/95/95_pair_11_mid.jpg'), ('./data/maksed_frame_split_by_match_pair_ocr/test/95/95_pair_8_late.jpg', './data/maksed_frame_split_by_match_pair_ocr/test/95/95_pair_9_late.jpg', './data/maksed_frame_split_by_match_pair_ocr/test/95/95_pair_10_late.jpg', './data/maksed_frame_split_by_match_pair_ocr/test/95/95_pair_11_late.jpg')]\n",
      "54. [('./data/maksed_frame_split_by_match_pair_ocr/test/95/95_pair_12_early.jpg', './data/maksed_frame_split_by_match_pair_ocr/test/95/95_pair_13_early.jpg', './data/maksed_frame_split_by_match_pair_ocr/test/95/95_pair_14_early.jpg', './data/maksed_frame_split_by_match_pair_ocr/test/95/95_pair_15_early.jpg'), ('./data/maksed_frame_split_by_match_pair_ocr/test/95/95_pair_12_mid.jpg', './data/maksed_frame_split_by_match_pair_ocr/test/95/95_pair_13_mid.jpg', './data/maksed_frame_split_by_match_pair_ocr/test/95/95_pair_14_mid.jpg', './data/maksed_frame_split_by_match_pair_ocr/test/95/95_pair_15_mid.jpg'), ('./data/maksed_frame_split_by_match_pair_ocr/test/95/95_pair_12_late.jpg', './data/maksed_frame_split_by_match_pair_ocr/test/95/95_pair_13_late.jpg', './data/maksed_frame_split_by_match_pair_ocr/test/95/95_pair_14_late.jpg', './data/maksed_frame_split_by_match_pair_ocr/test/95/95_pair_15_late.jpg')]\n",
      "55. [('./data/maksed_frame_split_by_match_pair_ocr/test/95/95_pair_12_early.jpg', './data/maksed_frame_split_by_match_pair_ocr/test/95/95_pair_13_early.jpg', './data/maksed_frame_split_by_match_pair_ocr/test/95/95_pair_14_early.jpg', './data/maksed_frame_split_by_match_pair_ocr/test/95/95_pair_15_early.jpg'), ('./data/maksed_frame_split_by_match_pair_ocr/test/95/95_pair_12_mid.jpg', './data/maksed_frame_split_by_match_pair_ocr/test/95/95_pair_13_mid.jpg', './data/maksed_frame_split_by_match_pair_ocr/test/95/95_pair_14_mid.jpg', './data/maksed_frame_split_by_match_pair_ocr/test/95/95_pair_15_mid.jpg'), ('./data/maksed_frame_split_by_match_pair_ocr/test/95/95_pair_12_late.jpg', './data/maksed_frame_split_by_match_pair_ocr/test/95/95_pair_13_late.jpg', './data/maksed_frame_split_by_match_pair_ocr/test/95/95_pair_14_late.jpg', './data/maksed_frame_split_by_match_pair_ocr/test/95/95_pair_15_late.jpg')]\n",
      "56. [('./data/maksed_frame_split_by_match_pair_ocr/test/95/95_pair_12_early.jpg', './data/maksed_frame_split_by_match_pair_ocr/test/95/95_pair_13_early.jpg', './data/maksed_frame_split_by_match_pair_ocr/test/95/95_pair_14_early.jpg', './data/maksed_frame_split_by_match_pair_ocr/test/95/95_pair_15_early.jpg'), ('./data/maksed_frame_split_by_match_pair_ocr/test/95/95_pair_12_mid.jpg', './data/maksed_frame_split_by_match_pair_ocr/test/95/95_pair_13_mid.jpg', './data/maksed_frame_split_by_match_pair_ocr/test/95/95_pair_14_mid.jpg', './data/maksed_frame_split_by_match_pair_ocr/test/95/95_pair_15_mid.jpg'), ('./data/maksed_frame_split_by_match_pair_ocr/test/95/95_pair_12_late.jpg', './data/maksed_frame_split_by_match_pair_ocr/test/95/95_pair_13_late.jpg', './data/maksed_frame_split_by_match_pair_ocr/test/95/95_pair_14_late.jpg', './data/maksed_frame_split_by_match_pair_ocr/test/95/95_pair_15_late.jpg')]\n",
      "57. [('./data/maksed_frame_split_by_match_pair_ocr/test/95/95_pair_16_early.jpg', './data/maksed_frame_split_by_match_pair_ocr/test/96/96_pair_1_early.jpg', './data/maksed_frame_split_by_match_pair_ocr/test/96/96_pair_2_early.jpg', './data/maksed_frame_split_by_match_pair_ocr/test/96/96_pair_3_early.jpg'), ('./data/maksed_frame_split_by_match_pair_ocr/test/95/95_pair_16_mid.jpg', './data/maksed_frame_split_by_match_pair_ocr/test/96/96_pair_1_mid.jpg', './data/maksed_frame_split_by_match_pair_ocr/test/96/96_pair_2_mid.jpg', './data/maksed_frame_split_by_match_pair_ocr/test/96/96_pair_3_mid.jpg'), ('./data/maksed_frame_split_by_match_pair_ocr/test/95/95_pair_16_late.jpg', './data/maksed_frame_split_by_match_pair_ocr/test/96/96_pair_1_late.jpg', './data/maksed_frame_split_by_match_pair_ocr/test/96/96_pair_2_late.jpg', './data/maksed_frame_split_by_match_pair_ocr/test/96/96_pair_3_late.jpg')]\n",
      "58. [('./data/maksed_frame_split_by_match_pair_ocr/test/95/95_pair_16_early.jpg', './data/maksed_frame_split_by_match_pair_ocr/test/96/96_pair_1_early.jpg', './data/maksed_frame_split_by_match_pair_ocr/test/96/96_pair_2_early.jpg', './data/maksed_frame_split_by_match_pair_ocr/test/96/96_pair_3_early.jpg'), ('./data/maksed_frame_split_by_match_pair_ocr/test/95/95_pair_16_mid.jpg', './data/maksed_frame_split_by_match_pair_ocr/test/96/96_pair_1_mid.jpg', './data/maksed_frame_split_by_match_pair_ocr/test/96/96_pair_2_mid.jpg', './data/maksed_frame_split_by_match_pair_ocr/test/96/96_pair_3_mid.jpg'), ('./data/maksed_frame_split_by_match_pair_ocr/test/95/95_pair_16_late.jpg', './data/maksed_frame_split_by_match_pair_ocr/test/96/96_pair_1_late.jpg', './data/maksed_frame_split_by_match_pair_ocr/test/96/96_pair_2_late.jpg', './data/maksed_frame_split_by_match_pair_ocr/test/96/96_pair_3_late.jpg')]\n",
      "59. [('./data/maksed_frame_split_by_match_pair_ocr/test/96/96_pair_4_early.jpg', './data/maksed_frame_split_by_match_pair_ocr/test/96/96_pair_5_early.jpg', './data/maksed_frame_split_by_match_pair_ocr/test/96/96_pair_6_early.jpg', './data/maksed_frame_split_by_match_pair_ocr/test/96/96_pair_7_early.jpg'), ('./data/maksed_frame_split_by_match_pair_ocr/test/96/96_pair_4_mid.jpg', './data/maksed_frame_split_by_match_pair_ocr/test/96/96_pair_5_mid.jpg', './data/maksed_frame_split_by_match_pair_ocr/test/96/96_pair_6_mid.jpg', './data/maksed_frame_split_by_match_pair_ocr/test/96/96_pair_7_mid.jpg'), ('./data/maksed_frame_split_by_match_pair_ocr/test/96/96_pair_4_late.jpg', './data/maksed_frame_split_by_match_pair_ocr/test/96/96_pair_5_late.jpg', './data/maksed_frame_split_by_match_pair_ocr/test/96/96_pair_6_late.jpg', './data/maksed_frame_split_by_match_pair_ocr/test/96/96_pair_7_late.jpg')]\n",
      "60. [('./data/maksed_frame_split_by_match_pair_ocr/test/96/96_pair_4_early.jpg', './data/maksed_frame_split_by_match_pair_ocr/test/96/96_pair_5_early.jpg', './data/maksed_frame_split_by_match_pair_ocr/test/96/96_pair_6_early.jpg', './data/maksed_frame_split_by_match_pair_ocr/test/96/96_pair_7_early.jpg'), ('./data/maksed_frame_split_by_match_pair_ocr/test/96/96_pair_4_mid.jpg', './data/maksed_frame_split_by_match_pair_ocr/test/96/96_pair_5_mid.jpg', './data/maksed_frame_split_by_match_pair_ocr/test/96/96_pair_6_mid.jpg', './data/maksed_frame_split_by_match_pair_ocr/test/96/96_pair_7_mid.jpg'), ('./data/maksed_frame_split_by_match_pair_ocr/test/96/96_pair_4_late.jpg', './data/maksed_frame_split_by_match_pair_ocr/test/96/96_pair_5_late.jpg', './data/maksed_frame_split_by_match_pair_ocr/test/96/96_pair_6_late.jpg', './data/maksed_frame_split_by_match_pair_ocr/test/96/96_pair_7_late.jpg')]\n",
      "61. [('./data/maksed_frame_split_by_match_pair_ocr/test/96/96_pair_4_early.jpg', './data/maksed_frame_split_by_match_pair_ocr/test/96/96_pair_5_early.jpg', './data/maksed_frame_split_by_match_pair_ocr/test/96/96_pair_6_early.jpg', './data/maksed_frame_split_by_match_pair_ocr/test/96/96_pair_7_early.jpg'), ('./data/maksed_frame_split_by_match_pair_ocr/test/96/96_pair_4_mid.jpg', './data/maksed_frame_split_by_match_pair_ocr/test/96/96_pair_5_mid.jpg', './data/maksed_frame_split_by_match_pair_ocr/test/96/96_pair_6_mid.jpg', './data/maksed_frame_split_by_match_pair_ocr/test/96/96_pair_7_mid.jpg'), ('./data/maksed_frame_split_by_match_pair_ocr/test/96/96_pair_4_late.jpg', './data/maksed_frame_split_by_match_pair_ocr/test/96/96_pair_5_late.jpg', './data/maksed_frame_split_by_match_pair_ocr/test/96/96_pair_6_late.jpg', './data/maksed_frame_split_by_match_pair_ocr/test/96/96_pair_7_late.jpg')]\n",
      "62. [('./data/maksed_frame_split_by_match_pair_ocr/test/96/96_pair_8_early.jpg', './data/maksed_frame_split_by_match_pair_ocr/test/96/96_pair_9_early.jpg', './data/maksed_frame_split_by_match_pair_ocr/test/96/96_pair_10_early.jpg', './data/maksed_frame_split_by_match_pair_ocr/test/96/96_pair_11_early.jpg'), ('./data/maksed_frame_split_by_match_pair_ocr/test/96/96_pair_8_mid.jpg', './data/maksed_frame_split_by_match_pair_ocr/test/96/96_pair_9_mid.jpg', './data/maksed_frame_split_by_match_pair_ocr/test/96/96_pair_10_mid.jpg', './data/maksed_frame_split_by_match_pair_ocr/test/96/96_pair_11_mid.jpg'), ('./data/maksed_frame_split_by_match_pair_ocr/test/96/96_pair_8_late.jpg', './data/maksed_frame_split_by_match_pair_ocr/test/96/96_pair_9_late.jpg', './data/maksed_frame_split_by_match_pair_ocr/test/96/96_pair_10_late.jpg', './data/maksed_frame_split_by_match_pair_ocr/test/96/96_pair_11_late.jpg')]\n",
      "63. [('./data/maksed_frame_split_by_match_pair_ocr/test/96/96_pair_8_early.jpg', './data/maksed_frame_split_by_match_pair_ocr/test/96/96_pair_9_early.jpg', './data/maksed_frame_split_by_match_pair_ocr/test/96/96_pair_10_early.jpg', './data/maksed_frame_split_by_match_pair_ocr/test/96/96_pair_11_early.jpg'), ('./data/maksed_frame_split_by_match_pair_ocr/test/96/96_pair_8_mid.jpg', './data/maksed_frame_split_by_match_pair_ocr/test/96/96_pair_9_mid.jpg', './data/maksed_frame_split_by_match_pair_ocr/test/96/96_pair_10_mid.jpg', './data/maksed_frame_split_by_match_pair_ocr/test/96/96_pair_11_mid.jpg'), ('./data/maksed_frame_split_by_match_pair_ocr/test/96/96_pair_8_late.jpg', './data/maksed_frame_split_by_match_pair_ocr/test/96/96_pair_9_late.jpg', './data/maksed_frame_split_by_match_pair_ocr/test/96/96_pair_10_late.jpg', './data/maksed_frame_split_by_match_pair_ocr/test/96/96_pair_11_late.jpg')]\n",
      "64. [('./data/maksed_frame_split_by_match_pair_ocr/test/96/96_pair_8_early.jpg', './data/maksed_frame_split_by_match_pair_ocr/test/96/96_pair_9_early.jpg', './data/maksed_frame_split_by_match_pair_ocr/test/96/96_pair_10_early.jpg', './data/maksed_frame_split_by_match_pair_ocr/test/96/96_pair_11_early.jpg'), ('./data/maksed_frame_split_by_match_pair_ocr/test/96/96_pair_8_mid.jpg', './data/maksed_frame_split_by_match_pair_ocr/test/96/96_pair_9_mid.jpg', './data/maksed_frame_split_by_match_pair_ocr/test/96/96_pair_10_mid.jpg', './data/maksed_frame_split_by_match_pair_ocr/test/96/96_pair_11_mid.jpg'), ('./data/maksed_frame_split_by_match_pair_ocr/test/96/96_pair_8_late.jpg', './data/maksed_frame_split_by_match_pair_ocr/test/96/96_pair_9_late.jpg', './data/maksed_frame_split_by_match_pair_ocr/test/96/96_pair_10_late.jpg', './data/maksed_frame_split_by_match_pair_ocr/test/96/96_pair_11_late.jpg')]\n",
      "65. [('./data/maksed_frame_split_by_match_pair_ocr/test/96/96_pair_8_early.jpg', './data/maksed_frame_split_by_match_pair_ocr/test/96/96_pair_9_early.jpg', './data/maksed_frame_split_by_match_pair_ocr/test/96/96_pair_10_early.jpg', './data/maksed_frame_split_by_match_pair_ocr/test/96/96_pair_11_early.jpg'), ('./data/maksed_frame_split_by_match_pair_ocr/test/96/96_pair_8_mid.jpg', './data/maksed_frame_split_by_match_pair_ocr/test/96/96_pair_9_mid.jpg', './data/maksed_frame_split_by_match_pair_ocr/test/96/96_pair_10_mid.jpg', './data/maksed_frame_split_by_match_pair_ocr/test/96/96_pair_11_mid.jpg'), ('./data/maksed_frame_split_by_match_pair_ocr/test/96/96_pair_8_late.jpg', './data/maksed_frame_split_by_match_pair_ocr/test/96/96_pair_9_late.jpg', './data/maksed_frame_split_by_match_pair_ocr/test/96/96_pair_10_late.jpg', './data/maksed_frame_split_by_match_pair_ocr/test/96/96_pair_11_late.jpg')]\n",
      "66. [('./data/maksed_frame_split_by_match_pair_ocr/test/96/96_pair_12_early.jpg', './data/maksed_frame_split_by_match_pair_ocr/test/96/96_pair_13_early.jpg', './data/maksed_frame_split_by_match_pair_ocr/test/96/96_pair_14_early.jpg', './data/maksed_frame_split_by_match_pair_ocr/test/96/96_pair_15_early.jpg'), ('./data/maksed_frame_split_by_match_pair_ocr/test/96/96_pair_12_mid.jpg', './data/maksed_frame_split_by_match_pair_ocr/test/96/96_pair_13_mid.jpg', './data/maksed_frame_split_by_match_pair_ocr/test/96/96_pair_14_mid.jpg', './data/maksed_frame_split_by_match_pair_ocr/test/96/96_pair_15_mid.jpg'), ('./data/maksed_frame_split_by_match_pair_ocr/test/96/96_pair_12_late.jpg', './data/maksed_frame_split_by_match_pair_ocr/test/96/96_pair_13_late.jpg', './data/maksed_frame_split_by_match_pair_ocr/test/96/96_pair_14_late.jpg', './data/maksed_frame_split_by_match_pair_ocr/test/96/96_pair_15_late.jpg')]\n",
      "67. [('./data/maksed_frame_split_by_match_pair_ocr/test/96/96_pair_12_early.jpg', './data/maksed_frame_split_by_match_pair_ocr/test/96/96_pair_13_early.jpg', './data/maksed_frame_split_by_match_pair_ocr/test/96/96_pair_14_early.jpg', './data/maksed_frame_split_by_match_pair_ocr/test/96/96_pair_15_early.jpg'), ('./data/maksed_frame_split_by_match_pair_ocr/test/96/96_pair_12_mid.jpg', './data/maksed_frame_split_by_match_pair_ocr/test/96/96_pair_13_mid.jpg', './data/maksed_frame_split_by_match_pair_ocr/test/96/96_pair_14_mid.jpg', './data/maksed_frame_split_by_match_pair_ocr/test/96/96_pair_15_mid.jpg'), ('./data/maksed_frame_split_by_match_pair_ocr/test/96/96_pair_12_late.jpg', './data/maksed_frame_split_by_match_pair_ocr/test/96/96_pair_13_late.jpg', './data/maksed_frame_split_by_match_pair_ocr/test/96/96_pair_14_late.jpg', './data/maksed_frame_split_by_match_pair_ocr/test/96/96_pair_15_late.jpg')]\n",
      "68. [('./data/maksed_frame_split_by_match_pair_ocr/test/96/96_pair_16_early.jpg', './data/maksed_frame_split_by_match_pair_ocr/test/96/96_pair_17_early.jpg', './data/maksed_frame_split_by_match_pair_ocr/test/96/96_pair_18_early.jpg'), ('./data/maksed_frame_split_by_match_pair_ocr/test/96/96_pair_16_mid.jpg', './data/maksed_frame_split_by_match_pair_ocr/test/96/96_pair_17_mid.jpg', './data/maksed_frame_split_by_match_pair_ocr/test/96/96_pair_18_mid.jpg'), ('./data/maksed_frame_split_by_match_pair_ocr/test/96/96_pair_16_late.jpg', './data/maksed_frame_split_by_match_pair_ocr/test/96/96_pair_17_late.jpg', './data/maksed_frame_split_by_match_pair_ocr/test/96/96_pair_18_late.jpg')]\n",
      "69. [('./data/maksed_frame_split_by_match_pair_ocr/test/96/96_pair_16_early.jpg', './data/maksed_frame_split_by_match_pair_ocr/test/96/96_pair_17_early.jpg', './data/maksed_frame_split_by_match_pair_ocr/test/96/96_pair_18_early.jpg'), ('./data/maksed_frame_split_by_match_pair_ocr/test/96/96_pair_16_mid.jpg', './data/maksed_frame_split_by_match_pair_ocr/test/96/96_pair_17_mid.jpg', './data/maksed_frame_split_by_match_pair_ocr/test/96/96_pair_18_mid.jpg'), ('./data/maksed_frame_split_by_match_pair_ocr/test/96/96_pair_16_late.jpg', './data/maksed_frame_split_by_match_pair_ocr/test/96/96_pair_17_late.jpg', './data/maksed_frame_split_by_match_pair_ocr/test/96/96_pair_18_late.jpg')]\n",
      "70. [('./data/maksed_frame_split_by_match_pair_ocr/test/96/96_pair_16_early.jpg', './data/maksed_frame_split_by_match_pair_ocr/test/96/96_pair_17_early.jpg', './data/maksed_frame_split_by_match_pair_ocr/test/96/96_pair_18_early.jpg'), ('./data/maksed_frame_split_by_match_pair_ocr/test/96/96_pair_16_mid.jpg', './data/maksed_frame_split_by_match_pair_ocr/test/96/96_pair_17_mid.jpg', './data/maksed_frame_split_by_match_pair_ocr/test/96/96_pair_18_mid.jpg'), ('./data/maksed_frame_split_by_match_pair_ocr/test/96/96_pair_16_late.jpg', './data/maksed_frame_split_by_match_pair_ocr/test/96/96_pair_17_late.jpg', './data/maksed_frame_split_by_match_pair_ocr/test/96/96_pair_18_late.jpg')]\n"
     ]
    },
    {
     "name": "stderr",
     "output_type": "stream",
     "text": [
      "\n"
     ]
    },
    {
     "data": {
      "text/plain": [
       "(0.35819162755175626, 82.09718670076727)"
      ]
     },
     "execution_count": 25,
     "metadata": {},
     "output_type": "execute_result"
    }
   ],
   "source": [
    "print_misclassified(model, test_loader, criterion, device)"
   ]
  }
 ],
 "metadata": {
  "kernelspec": {
   "display_name": "DLCV",
   "language": "python",
   "name": "python3"
  },
  "language_info": {
   "codemirror_mode": {
    "name": "ipython",
    "version": 3
   },
   "file_extension": ".py",
   "mimetype": "text/x-python",
   "name": "python",
   "nbconvert_exporter": "python",
   "pygments_lexer": "ipython3",
   "version": "3.12.7"
  }
 },
 "nbformat": 4,
 "nbformat_minor": 2
}
